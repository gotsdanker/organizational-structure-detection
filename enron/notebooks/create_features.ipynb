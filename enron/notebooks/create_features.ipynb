{
 "cells": [
  {
   "cell_type": "code",
   "execution_count": 1,
   "metadata": {
    "collapsed": true
   },
   "outputs": [],
   "source": [
    "# IMPORTS\n",
    "import pandas as pd\n",
    "\n",
    "from enron.src.common.const import *\n",
    "\n",
    "from manufacturing_company.src.common.const import *\n",
    "from manufacturing_company.src.features.employee_activity import *\n",
    "from manufacturing_company.src.features.neighborhood_variability import *\n"
   ]
  },
  {
   "cell_type": "code",
   "execution_count": 2,
   "metadata": {},
   "outputs": [],
   "source": [
    "# CREATE FEATURES\n",
    "for month in range(MONTHS):\n",
    "    df = pd.read_csv(FILE_MINIMUM_ACTIVITY.format(month), sep=';', parse_dates=[EVENT_DATE])\n",
    "    df_overtime = calculate_overtime(df, from_hour=17, to_hour=5)\n",
    "    df_weekend = calculate_work_at_weekend(df)\n",
    "    df_merged = pd.merge(df_overtime, df_weekend, on=SENDER)\n",
    "    \n",
    "    df_network = pd.read_csv(FILE_NETWORK_MEASURES.format(month), sep=';')\n",
    "    df_merged = pd.merge(df_network, df_merged, left_on=ID, right_on=SENDER)\n",
    "    \n",
    "    sender, recipient, sender_recipient = calculate_neighborhood_variability(df, df_merged[ID])\n",
    "    \n",
    "    sender = pd.DataFrame.from_dict(sender, orient='index', columns=[NEIGHBORHOOD_VARIABILITY_SENDER])\n",
    "    sender.index.name = ID\n",
    "    \n",
    "    recipient = pd.DataFrame.from_dict(recipient, orient='index', columns=[NEIGHBORHOOD_VARIABILITY_RECIPIENT])\n",
    "    recipient.index.name = ID\n",
    "    \n",
    "    sender_recipient = pd.DataFrame.from_dict(sender_recipient, orient='index', columns=[NEIGHBORHOOD_VARIABILITY_ALL])\n",
    "    sender_recipient.index.name = ID\n",
    "    \n",
    "    df_merged = pd.merge(df_merged, sender, on=ID)\n",
    "    df_merged = pd.merge(df_merged, recipient, on=ID)\n",
    "    df_merged = pd.merge(df_merged, sender_recipient, on=ID)\n",
    "    \n",
    "    df_merged.to_csv(FILE_FEATURES.format(month), sep=';', index=False)\n"
   ]
  },
  {
   "cell_type": "code",
   "execution_count": null,
   "metadata": {},
   "outputs": [],
   "source": [
    ""
   ]
  }
 ],
 "metadata": {
  "kernelspec": {
   "display_name": "Python 2",
   "language": "python",
   "name": "python2"
  },
  "language_info": {
   "codemirror_mode": {
    "name": "ipython",
    "version": 2
   },
   "file_extension": ".py",
   "mimetype": "text/x-python",
   "name": "python",
   "nbconvert_exporter": "python",
   "pygments_lexer": "ipython2",
   "version": "2.7.6"
  }
 },
 "nbformat": 4,
 "nbformat_minor": 0
}
