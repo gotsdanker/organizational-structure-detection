{
 "cells": [
  {
   "cell_type": "code",
   "execution_count": 1,
   "metadata": {
    "collapsed": true
   },
   "outputs": [],
   "source": [
    "# IMPORTS\n",
    "import pandas as pd\n",
    "\n",
    "from enron.src.common.const import *\n",
    "\n",
    "from manufacturing_company.src.common.const import *\n",
    "from manufacturing_company.src.features.employee_activity import *\n",
    "from manufacturing_company.src.features.neighborhood_variability import *\n"
   ]
  },
  {
   "cell_type": "code",
   "execution_count": 2,
   "metadata": {},
   "outputs": [],
   "source": [
    "# CREATE FEATURES\n",
    "for month in MONTHS:\n",
    "    df = pd.read_csv(ENRON_FILE_MINIMUM_ACTIVITY.format(month), sep=';', parse_dates=[EVENT_DATE])\n",
    "    \n",
    "    overtime = calculate_overtime(df, from_hour=17, to_hour=5)\n",
    "    work_at_weekend = calculate_work_at_weekend(df)\n",
    "    \n",
    "    features = pd.merge(overtime, work_at_weekend, on=SENDER)\n",
    "    \n",
    "    network_measures = pd.read_csv(ENRON_FILE_NETWORK_MEASURES.format(month), sep=';')\n",
    "    \n",
    "    features = pd.merge(network_measures, features, left_on=ID, right_on=SENDER)\n",
    "    \n",
    "    nv_sender, nv_recipient, nv_sender_recipient = calculate_neighborhood_variability(df, features[ID])\n",
    "    \n",
    "    nv_sender = pd.DataFrame.from_dict(nv_sender, orient='index', columns=[NEIGHBORHOOD_VARIABILITY_SENDER])\n",
    "    nv_sender.index.name = ID\n",
    "    \n",
    "    nv_recipient = pd.DataFrame.from_dict(nv_recipient, orient='index', columns=[NEIGHBORHOOD_VARIABILITY_RECIPIENT])\n",
    "    nv_recipient.index.name = ID\n",
    "    \n",
    "    nv_sender_recipient = pd.DataFrame.from_dict(nv_sender_recipient, orient='index', columns=[NEIGHBORHOOD_VARIABILITY_ALL])\n",
    "    nv_sender_recipient.index.name = ID\n",
    "    \n",
    "    features = pd.merge(features, nv_sender, on=ID)\n",
    "    features = pd.merge(features, nv_recipient, on=ID)\n",
    "    features = pd.merge(features, nv_sender_recipient, on=ID)\n",
    "    \n",
    "    features.to_csv(ENRON_FILE_FEATURES.format(month), sep=';', index=False)\n"
   ]
  },
  {
   "cell_type": "code",
   "execution_count": null,
   "metadata": {},
   "outputs": [],
   "source": [
    ""
   ]
  }
 ],
 "metadata": {
  "kernelspec": {
   "display_name": "Python 2",
   "language": "python",
   "name": "python2"
  },
  "language_info": {
   "codemirror_mode": {
    "name": "ipython",
    "version": 2
   },
   "file_extension": ".py",
   "mimetype": "text/x-python",
   "name": "python",
   "nbconvert_exporter": "python",
   "pygments_lexer": "ipython2",
   "version": "2.7.6"
  }
 },
 "nbformat": 4,
 "nbformat_minor": 0
}
