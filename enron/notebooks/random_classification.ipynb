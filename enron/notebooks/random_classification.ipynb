{
 "cells": [
  {
   "cell_type": "code",
   "execution_count": 9,
   "metadata": {
    "collapsed": true
   },
   "outputs": [],
   "source": [
    "# IMPORTS\n",
    "import random\n",
    "import numpy as np\n",
    "import pandas as pd\n",
    "from sklearn.metrics import f1_score\n",
    "\n",
    "from enron.src.common.const import *\n",
    "from enron.src.classification_algorithms.assign_management_levels import *\n",
    "\n",
    "from manufacturing_company.src.common.const import *\n",
    "\n",
    "import warnings\n",
    "warnings.filterwarnings(action='once')"
   ]
  },
  {
   "cell_type": "code",
   "execution_count": 13,
   "metadata": {},
   "outputs": [],
   "source": [
    "# PARAMS\n",
    "levels = 3\n",
    "max_iter = 1000"
   ]
  },
  {
   "cell_type": "code",
   "execution_count": 14,
   "metadata": {
    "collapsed": true
   },
   "outputs": [
    {
     "name": "stdout",
     "output_type": "stream",
     "text": [
      "0.3278022158536647\n"
     ]
    },
    {
     "name": "stdout",
     "output_type": "stream",
     "text": [
      "0.3271635610766046\n"
     ]
    },
    {
     "name": "stdout",
     "output_type": "stream",
     "text": [
      "0.3298223827974365\n"
     ]
    },
    {
     "name": "stdout",
     "output_type": "stream",
     "text": [
      "0.3272830318568105\n"
     ]
    },
    {
     "name": "stdout",
     "output_type": "stream",
     "text": [
      "0.3197869382079908\n"
     ]
    }
   ],
   "source": [
    "month_random = dict()\n",
    "\n",
    "for month in MONTHS:\n",
    "    randoms = []\n",
    "    for i in range(max_iter):\n",
    "        df_features = pd.read_csv(ENRON_FILE_FEATURES.format(month), sep=';', index_col=ID)\n",
    "        df_positions = pd.read_csv(ENRON_FILE_FLATTEN_HIERARCHY, sep=';', index_col=ID)\n",
    "        df_positions = df_positions[[FLATTEN_POSITION]]\n",
    "        df_positions.columns = [POSITION]       \n",
    "        df_features = assign_management_levels_enron(levels, df_features, df_positions)\n",
    "        df_features['random'] = [random.randint(1, levels) for k in df_features.index]\n",
    "        f1 = f1_score(df_features[POSITION], df_features['random'], average='macro')\n",
    "        randoms.append(f1)\n",
    "    print(np.median(randoms))\n",
    "    month_random[month] = np.median(randoms)\n",
    "\n",
    "df = pd.DataFrame.from_dict(month_random, orient='index', columns=['f1_score'])\n",
    "df.index.name = 'min_activity'\n",
    "df.to_csv('enron/data/processed/random/random_' + str(levels) + '_levels.csv', sep=';', index=True)\n"
   ]
  },
  {
   "cell_type": "code",
   "execution_count": null,
   "metadata": {},
   "outputs": [],
   "source": [
    ""
   ]
  }
 ],
 "metadata": {
  "kernelspec": {
   "display_name": "Python 2",
   "language": "python",
   "name": "python2"
  },
  "language_info": {
   "codemirror_mode": {
    "name": "ipython",
    "version": 2
   },
   "file_extension": ".py",
   "mimetype": "text/x-python",
   "name": "python",
   "nbconvert_exporter": "python",
   "pygments_lexer": "ipython2",
   "version": "2.7.6"
  }
 },
 "nbformat": 4,
 "nbformat_minor": 0
}
