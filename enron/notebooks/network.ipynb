{
 "cells": [
  {
   "cell_type": "code",
   "execution_count": 1,
   "metadata": {
    "collapsed": true
   },
   "outputs": [],
   "source": [
    "# IMPORTS\n",
    "from enron.src.common.const import *\n",
    "\n",
    "from manufacturing_company.src.common.const import *\n",
    "from manufacturing_company.src.network.social_network import *\n"
   ]
  },
  {
   "cell_type": "code",
   "execution_count": 2,
   "metadata": {},
   "outputs": [],
   "source": [
    "# CALCULATE NETWORK MEASURES\n",
    "for month in MONTHS:\n",
    "    df = pd.read_csv(ENRON_FILE_MINIMUM_ACTIVITY.format(month), sep=';')\n",
    "    df = calculate_weights(df)\n",
    "    G = create_network(df, weight=True)\n",
    "    df = calculate_network_measures(G)\n",
    "    df.to_csv(ENRON_FILE_NETWORK_MEASURES.format(month), sep=';', index=False)\n"
   ]
  },
  {
   "cell_type": "code",
   "execution_count": null,
   "metadata": {},
   "outputs": [],
   "source": []
  }
 ],
 "metadata": {
  "kernelspec": {
   "display_name": "Python 2",
   "language": "python",
   "name": "python2"
  },
  "language_info": {
   "codemirror_mode": {
    "name": "ipython",
    "version": 2
   },
   "file_extension": ".py",
   "mimetype": "text/x-python",
   "name": "python",
   "nbconvert_exporter": "python",
   "pygments_lexer": "ipython2",
   "version": "2.7.6"
  }
 },
 "nbformat": 4,
 "nbformat_minor": 0
}
