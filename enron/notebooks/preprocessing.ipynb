{
 "cells": [
  {
   "cell_type": "code",
   "execution_count": 3,
   "metadata": {
    "collapsed": true
   },
   "outputs": [],
   "source": [
    "# IMPORTS\n",
    "import pandas as pd\n",
    "\n",
    "from enron.src.common.const import *\n",
    "from enron.src.data.import_data import *\n",
    "from enron.src.features.data_cleaning import *\n",
    "\n",
    "from manufacturing_company.src.common.const import *\n",
    "from manufacturing_company.src.features.employee_activity import *\n"
   ]
  },
  {
   "cell_type": "code",
   "execution_count": 4,
   "metadata": {},
   "outputs": [],
   "source": [
    "# DATA CLEANING\n",
    "employees = load_employees()\n",
    "emails = load_emails()\n",
    "\n",
    "employees, emails = delete_nan(employees, emails)\n",
    "\n",
    "employees.to_csv(ENRON_FILE_01_DELETE_NAN_EMPLOYEES, sep=';', index=True)\n",
    "emails.to_csv(ENRON_FILE_01_DELETE_NAN_EMAILS, sep=';', index=False)\n",
    "\n",
    "emails = remap_employee_ids(employees, emails)\n",
    "\n",
    "employees.to_csv(ENRON_FILE_02_REMAP_EMPLOYEE_IDS_EMPLOYEES, sep=';', index=True)\n",
    "emails.to_csv(ENRON_FILE_02_REMAP_EMPLOYEE_IDS_EMAILS, sep=';', index=False)\n",
    "\n",
    "emails = delete_messages_sent_to_yourself(emails)\n",
    "\n",
    "emails.to_csv(ENRON_FILE_03_DELETE_MESSAGE_SENT_TO_YOURSELF, sep=';', index=False)\n",
    "\n",
    "emails = delete_messages_with_boundary_dates(emails)\n",
    "\n",
    "emails.to_csv(ENRON_FILE_04_DELETE_MESSAGES_WITH_BOUNDARY_DATES, sep=';', index=False)\n",
    "\n",
    "emails = emails.drop_duplicates([SENDER, RECIPIENT, EVENT_DATE])\n",
    "\n",
    "emails.to_csv(ENRON_FILE_05_DELETE_DUPLICATE_MESSAGES, sep=';', index=False)\n"
   ]
  },
  {
   "cell_type": "code",
   "execution_count": 3,
   "metadata": {
    "collapsed": true
   },
   "outputs": [],
   "source": [
    "# MINIMUM EMPLOYEE ACTIVITY\n",
    "emails[MONTH] = emails[EVENT_DATE].apply(lambda x: x.month)\n",
    "emails[YEAR] = emails[EVENT_DATE].apply(lambda x: x.year)\n",
    "\n",
    "for month in MONTHS:\n",
    "    emails = remove_employees_below_minimum_activity(emails, month)\n",
    "    emails.to_csv(ENRON_FILE_MINIMUM_ACTIVITY.format(month), sep=';', index=False)\n"
   ]
  },
  {
   "cell_type": "code",
   "execution_count": 5,
   "metadata": {
    "collapsed": false
   },
   "outputs": [],
   "source": [
    "# FLATTENING THE HIERARCHY\n",
    "employees = pd.read_csv(ENRON_FILE_02_REMAP_EMPLOYEE_IDS_EMPLOYEES, sep=';')\n",
    "employees[FLATTEN_POSITION] = -1\n",
    "\n",
    "first_management_level = ['CEO', 'President', 'Vice President']\n",
    "second_management_level = ['Director', 'Managing Director', 'Manager']\n",
    "standard_employee = ['Employee', 'In House Lawyer', 'Trader']\n",
    "\n",
    "employees.loc[employees[POSITION].isin(first_management_level), FLATTEN_POSITION] = 1\n",
    "employees.loc[employees[POSITION].isin(second_management_level), FLATTEN_POSITION] = 2\n",
    "employees.loc[employees[POSITION].isin(standard_employee), FLATTEN_POSITION] = 3\n",
    "\n",
    "employees.to_csv(ENRON_FILE_FLATTEN_HIERARCHY, sep=';', index=False)"
   ]
  },
  {
   "cell_type": "code",
   "execution_count": 14,
   "metadata": {
    "collapsed": false
   },
   "outputs": [
    {
     "data": {
      "text/html": [
       "<div>\n",
       "<style scoped>\n",
       "    .dataframe tbody tr th:only-of-type {\n",
       "        vertical-align: middle;\n",
       "    }\n",
       "\n",
       "    .dataframe tbody tr th {\n",
       "        vertical-align: top;\n",
       "    }\n",
       "\n",
       "    .dataframe thead th {\n",
       "        text-align: right;\n",
       "    }\n",
       "</style>\n",
       "<table border=\"1\" class=\"dataframe\">\n",
       "  <thead>\n",
       "    <tr style=\"text-align: right;\">\n",
       "      <th></th>\n",
       "      <th>ID</th>\n",
       "      <th>email</th>\n",
       "      <th>name</th>\n",
       "      <th>ManagementLevel</th>\n",
       "      <th>details</th>\n",
       "    </tr>\n",
       "    <tr>\n",
       "      <th>flattenManagementLevels</th>\n",
       "      <th></th>\n",
       "      <th></th>\n",
       "      <th></th>\n",
       "      <th></th>\n",
       "      <th></th>\n",
       "    </tr>\n",
       "  </thead>\n",
       "  <tbody>\n",
       "    <tr>\n",
       "      <th>1</th>\n",
       "      <td>40</td>\n",
       "      <td>40</td>\n",
       "      <td>40</td>\n",
       "      <td>40</td>\n",
       "      <td>19</td>\n",
       "    </tr>\n",
       "    <tr>\n",
       "      <th>2</th>\n",
       "      <td>37</td>\n",
       "      <td>37</td>\n",
       "      <td>37</td>\n",
       "      <td>37</td>\n",
       "      <td>13</td>\n",
       "    </tr>\n",
       "    <tr>\n",
       "      <th>3</th>\n",
       "      <td>53</td>\n",
       "      <td>53</td>\n",
       "      <td>53</td>\n",
       "      <td>53</td>\n",
       "      <td>14</td>\n",
       "    </tr>\n",
       "  </tbody>\n",
       "</table>\n",
       "</div>"
      ],
      "text/plain": [
       "<div>\n",
       "<style scoped>\n",
       "    .dataframe tbody tr th:only-of-type {\n",
       "        vertical-align: middle;\n",
       "    }\n",
       "\n",
       "    .dataframe tbody tr th {\n",
       "        vertical-align: top;\n",
       "    }\n",
       "\n",
       "    .dataframe thead th {\n",
       "        text-align: right;\n",
       "    }\n",
       "</style>\n",
       "<table border=\"1\" class=\"dataframe\">\n",
       "  <thead>\n",
       "    <tr style=\"text-align: right;\">\n",
       "      <th></th>\n",
       "      <th>ID</th>\n",
       "      <th>email</th>\n",
       "      <th>name</th>\n",
       "      <th>ManagementLevel</th>\n",
       "      <th>details</th>\n",
       "    </tr>\n",
       "    <tr>\n",
       "      <th>flattenManagementLevels</th>\n",
       "      <th></th>\n",
       "      <th></th>\n",
       "      <th></th>\n",
       "      <th></th>\n",
       "      <th></th>\n",
       "    </tr>\n",
       "  </thead>\n",
       "  <tbody>\n",
       "    <tr>\n",
       "      <th>1</th>\n",
       "      <td>40</td>\n",
       "      <td>40</td>\n",
       "      <td>40</td>\n",
       "      <td>40</td>\n",
       "      <td>19</td>\n",
       "    </tr>\n",
       "    <tr>\n",
       "      <th>2</th>\n",
       "      <td>37</td>\n",
       "      <td>37</td>\n",
       "      <td>37</td>\n",
       "      <td>37</td>\n",
       "      <td>13</td>\n",
       "    </tr>\n",
       "    <tr>\n",
       "      <th>3</th>\n",
       "      <td>53</td>\n",
       "      <td>53</td>\n",
       "      <td>53</td>\n",
       "      <td>53</td>\n",
       "      <td>14</td>\n",
       "    </tr>\n",
       "  </tbody>\n",
       "</table>\n",
       "</div>"
      ]
     },
     "execution_count": 14,
     "metadata": {},
     "output_type": "execute_result"
    }
   ],
   "source": [
    "employees.groupby('flattenManagementLevels').agg('count')"
   ]
  },
  {
   "cell_type": "code",
   "execution_count": null,
   "metadata": {},
   "outputs": [],
   "source": []
  }
 ],
 "metadata": {
  "kernelspec": {
   "display_name": "Python 2",
   "language": "python",
   "name": "python2"
  },
  "language_info": {
   "codemirror_mode": {
    "name": "ipython",
    "version": 2
   },
   "file_extension": ".py",
   "mimetype": "text/x-python",
   "name": "python",
   "nbconvert_exporter": "python",
   "pygments_lexer": "ipython2",
   "version": "2.7.6"
  }
 },
 "nbformat": 4,
 "nbformat_minor": 0
}
