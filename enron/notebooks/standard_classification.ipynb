{
 "cells": [
  {
   "cell_type": "code",
   "execution_count": 3,
   "metadata": {
    "collapsed": true
   },
   "outputs": [],
   "source": [
    "# IMPORTS\n",
    "import numpy as np\n",
    "import pandas as pd\n",
    "from sklearn.tree import DecisionTreeClassifier\n",
    "from sklearn.ensemble import RandomForestClassifier\n",
    "\n",
    "from enron.src.common.const import *\n",
    "from enron.src.classification_algorithms.assign_management_levels import assign_management_levels_enron\n",
    "from enron.src.visualization.random_baseline_enron import *\n",
    "\n",
    "from manufacturing_company.src.common.const import *\n",
    "from manufacturing_company.src.classification_algorithms.standard_classification import classification\n",
    "from manufacturing_company.src.logs.standard_classification_logger import StandardClassificationLogger\n",
    "from manufacturing_company.src.visualization.plot_standard_classification import PlotStandardClassification\n",
    "\n",
    "import warnings\n",
    "warnings.filterwarnings(action='once')"
   ]
  },
  {
   "cell_type": "code",
   "execution_count": 4,
   "metadata": {},
   "outputs": [],
   "source": [
    "# CONST\n",
    "positions = pd.read_csv(ENRON_FILE_FLATTEN_HIERARCHY, sep=';', index_col=ID)\n",
    "positions = positions[[FLATTEN_POSITION]]\n",
    "positions.columns = [POSITION]\n",
    "\n",
    "levels = 3"
   ]
  },
  {
   "cell_type": "code",
   "execution_count": 6,
   "metadata": {},
   "outputs": [],
   "source": [
    "def decision_tree_params(n_features):\n",
    "    max_depth = np.linspace(1, 20, 20, endpoint=True)\n",
    "    max_features = list(range(1, n_features))\n",
    "    return {'model__max_depth': max_depth, 'model__max_features': max_features}\n"
   ]
  },
  {
   "cell_type": "code",
   "execution_count": 1,
   "metadata": {
    "collapsed": false
   },
   "outputs": [],
   "source": [
    "# DECISION TREE\n",
    "logger = StandardClassificationLogger('enron', levels, DecisionTreeClassifier)\n",
    "\n",
    "for month in MONTHS:\n",
    "    features = pd.read_csv(ENRON_FILE_FEATURES.format(month), sep=';', index_col=ID)\n",
    "    features = assign_management_levels_enron(levels, features, positions)\n",
    "\n",
    "    models = classification(features, DecisionTreeClassifier, decision_tree_params, 'f1_macro', logger, month)\n",
    "\n",
    "\n",
    "plot = PlotStandardClassification(logger.directory_path, DecisionTreeClassifier, levels, random_baseline_enron)\n",
    "plot.plot()\n"
   ]
  },
  {
   "cell_type": "code",
   "execution_count": 6,
   "metadata": {},
   "outputs": [],
   "source": [
    "def random_forest_params(n_features):\n",
    "    n_estimators = [1, 2, 4, 8, 16, 32, 64, 100, 200]\n",
    "    max_depth = np.linspace(1, 20, 20, endpoint=True)\n",
    "    max_features = list(range(1, n_features))\n",
    "    return {'model__n_estimators': n_estimators, \n",
    "            'model__max_depth': max_depth, \n",
    "            'model__max_features': max_features}\n"
   ]
  },
  {
   "cell_type": "code",
   "execution_count": 7,
   "metadata": {},
   "outputs": [],
   "source": [
    "# RANDOM FOREST\n",
    "\n",
    "logger = StandardClassificationLogger('enron', levels, RandomForestClassifier)\n",
    "\n",
    "for month in MONTHS:\n",
    "    features = pd.read_csv(ENRON_FILE_FEATURES.format(month), sep=';', index_col=ID)\n",
    "    features = assign_management_levels_enron(levels, features, positions)\n",
    "\n",
    "    models = classification(features, RandomForestClassifier, random_forest_params, 'f1_macro', logger, month)\n",
    "\n",
    "plot = PlotStandardClassification(logger.directory_path, RandomForestClassifier, levels, random_baseline_enron)\n",
    "plot.plot()\n"
   ]
  },
  {
   "cell_type": "code",
   "execution_count": 2,
   "metadata": {
    "collapsed": true
   },
   "outputs": [],
   "source": [
    "plot = PlotStandardClassification('enron/logs/standard_classification/2019-06-08_19:09:01_RandomForestClassifier_2_levels', \n",
    "                                  RandomForestClassifier, 2, random_baseline_enron)\n",
    "plot.plot()"
   ]
  },
  {
   "cell_type": "code",
   "execution_count": 3,
   "metadata": {},
   "outputs": [],
   "source": [
    "plot = PlotStandardClassification('enron/logs/standard_classification/2019-06-08_21:34:10_RandomForestClassifier_3_levels', \n",
    "                                  RandomForestClassifier, 3, random_baseline_enron)\n",
    "plot.plot()"
   ]
  },
  {
   "cell_type": "code",
   "execution_count": 4,
   "metadata": {},
   "outputs": [],
   "source": [
    "plot = PlotStandardClassification('enron/logs/standard_classification/2019-06-08_18:44:39_DecisionTreeClassifier_2_levels', \n",
    "                                  DecisionTreeClassifier, 2, random_baseline_enron)\n",
    "plot.plot()"
   ]
  },
  {
   "cell_type": "code",
   "execution_count": 5,
   "metadata": {},
   "outputs": [],
   "source": [
    "plot = PlotStandardClassification(\n",
    "    'enron/logs/standard_classification/'\n",
    "    '2019-06-08_21:34:10_RandomForestClassifier_3_levels', \n",
    "                                  RandomForestClassifier, 3, random_baseline_enron)\n",
    "plot.plot()"
   ]
  },
  {
   "cell_type": "code",
   "execution_count": null,
   "metadata": {},
   "outputs": [],
   "source": []
  }
 ],
 "metadata": {
  "kernelspec": {
   "display_name": "Python 2",
   "language": "python",
   "name": "python2"
  },
  "language_info": {
   "codemirror_mode": {
    "name": "ipython",
    "version": 2
   },
   "file_extension": ".py",
   "mimetype": "text/x-python",
   "name": "python",
   "nbconvert_exporter": "python",
   "pygments_lexer": "ipython2",
   "version": "2.7.6"
  }
 },
 "nbformat": 4,
 "nbformat_minor": 0
}
