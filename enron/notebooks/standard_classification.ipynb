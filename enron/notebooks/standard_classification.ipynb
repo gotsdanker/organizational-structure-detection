{
 "cells": [
  {
   "cell_type": "code",
   "execution_count": 1,
   "metadata": {
    "collapsed": true
   },
   "outputs": [
    {
     "name": "stderr",
     "output_type": "stream",
     "text": [
      "/Users/mateusz/anaconda3/lib/python3.6/site-packages/sklearn/externals/six.py:31: DeprecationWarning: The module is deprecated in version 0.21 and will be removed in version 0.23 since we've dropped support for Python 2.7. Please rely on the official version of six (https://pypi.org/project/six/).\n  \"(https://pypi.org/project/six/).\", DeprecationWarning)\n"
     ]
    }
   ],
   "source": [
    "# IMPORTS\n",
    "import numpy as np\n",
    "import pandas as pd\n",
    "from sklearn.tree import DecisionTreeClassifier\n",
    "from sklearn.ensemble import RandomForestClassifier\n",
    "\n",
    "from enron.src.common.const import *\n",
    "from enron.src.classification_algorithms.assign_management_levels import assign_management_levels_cc\n",
    "from enron.src.visualization.random_baseline_enron import *\n",
    "\n",
    "from manufacturing_company.src.common.const import *\n",
    "from manufacturing_company.src.classification_algorithms.standard_classification import classification\n",
    "from manufacturing_company.src.logs.standard_classification_logger import StandardClassificationLogger\n",
    "from manufacturing_company.src.visualization.plot_standard_classification import PlotStandardClassification\n",
    "\n",
    "import warnings\n",
    "warnings.filterwarnings(action='once')\n"
   ]
  },
  {
   "cell_type": "code",
   "execution_count": 4,
   "metadata": {},
   "outputs": [],
   "source": [
    "# CONST\n",
    "df_positions = pd.read_csv(ENRON_FILE_FLATTEN_HIERARCHY, sep=';', index_col=ID)\n",
    "df_positions = df_positions[[FLATTEN_POSITION]]\n",
    "df_positions.columns = [POSITION]\n",
    "\n",
    "levels = 2"
   ]
  },
  {
   "cell_type": "code",
   "execution_count": null,
   "metadata": {},
   "outputs": [],
   "source": [
    "def decision_tree_params(n_features):\n",
    "    max_depth = np.linspace(1, 20, 20, endpoint=True)\n",
    "    max_features = list(range(1, n_features))\n",
    "    return {'model__max_depth': max_depth, 'model__max_features': max_features}\n"
   ]
  },
  {
   "cell_type": "code",
   "execution_count": 1,
   "metadata": {
    "collapsed": true
   },
   "outputs": [],
   "source": [
    "# DECISION TREE\n",
    "logger = StandardClassificationLogger('enron', levels, DecisionTreeClassifier)\n",
    "\n",
    "for month in range(MONTHS):\n",
    "    features = pd.read_csv(ENRON_FILE_FEATURES.format(month), sep=';', index_col=ID)\n",
    "    features = assign_management_levels(levels, features, positions)\n",
    "\n",
    "    models = classification(features, DecisionTreeClassifier, decision_tree_params, 'f1_macro', logger, month)\n",
    "\n",
    "\n",
    "plot = PlotStandardClassification(logger.directory_path, DecisionTreeClassifier, levels, random_baseline_enron)\n",
    "plot.plot()\n"
   ]
  },
  {
   "cell_type": "code",
   "execution_count": 3,
   "metadata": {},
   "outputs": [],
   "source": [
    "def random_forest_params(n_features):\n",
    "    n_estimators = [1, 2, 4, 8, 16, 32, 64, 100, 200]\n",
    "    max_depth = np.linspace(1, 20, 20, endpoint=True)\n",
    "    max_features = list(range(1, n_features))\n",
    "    return {'model__n_estimators': n_estimators, \n",
    "            'model__max_depth': max_depth, \n",
    "            'model__max_features': max_features}\n"
   ]
  },
  {
   "cell_type": "code",
   "execution_count": null,
   "metadata": {},
   "outputs": [],
   "source": [
    "# RANDOM FOREST\n",
    "\n",
    "logger = StandardClassificationLogger('enron', levels, RandomForestClassifier)\n",
    "\n",
    "for month in range(MONTHS):\n",
    "    features = pd.read_csv(ENRON_FILE_FEATURES.format(month), sep=';', index_col=ID)\n",
    "    features = assign_management_levels(levels, features, positions)\n",
    "\n",
    "    models = classification(features, RandomForestClassifier, decision_tree_params, 'f1_macro', logger, month)\n",
    "\n",
    "plot = PlotStandardClassification(logger.directory_path, RandomForestClassifier, levels, random_baseline_enron)\n",
    "plot.plot()\n"
   ]
  },
  {
   "cell_type": "code",
   "execution_count": null,
   "metadata": {
    "collapsed": true
   },
   "outputs": [],
   "source": [
    ""
   ]
  }
 ],
 "metadata": {
  "kernelspec": {
   "display_name": "Python 2",
   "language": "python",
   "name": "python2"
  },
  "language_info": {
   "codemirror_mode": {
    "name": "ipython",
    "version": 2
   },
   "file_extension": ".py",
   "mimetype": "text/x-python",
   "name": "python",
   "nbconvert_exporter": "python",
   "pygments_lexer": "ipython2",
   "version": "2.7.6"
  }
 },
 "nbformat": 4,
 "nbformat_minor": 0
}
