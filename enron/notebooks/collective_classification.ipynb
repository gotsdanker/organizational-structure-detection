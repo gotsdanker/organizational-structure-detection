{
 "cells": [
  {
   "cell_type": "code",
   "execution_count": 7,
   "metadata": {
    "collapsed": true
   },
   "outputs": [],
   "source": [
    "# IMPORTS\n",
    "import warnings\n",
    "warnings.filterwarnings(action='ignore')\n",
    "\n",
    "from manufacturing_company.src.common.const import *\n",
    "from manufacturing_company.src.network.social_network import *\n",
    "from enron.src.common.const import *\n",
    "from enron.src.classification_algorithms.assign_management_levels import *\n",
    "from manufacturing_company.src.classification_algorithms.collective_classification import *\n",
    "from manufacturing_company.src.logs.collective_classification_logger import CollectiveClassificationLogger\n"
   ]
  },
  {
   "cell_type": "code",
   "execution_count": 8,
   "metadata": {
    "collapsed": true
   },
   "outputs": [],
   "source": [
    "# CONST\n",
    "pcts = [0.9, 0.8, 0.7, 0.6, 0.5, 0.4, 0.3, 0.2, 0.1]\n",
    "thresholds = [2, 3, 4, 5, 6, 7, 8, 9, 10]\n",
    "jaccard_mins = [0.7, 0.8, 0.9, 0.99]\n",
    "levels = 2\n",
    "minority_labels = [] #[1, 2]\n",
    "\n",
    "df_positions = pd.read_csv(FILE_FLATTEN_HIERARCHY, sep=';', index_col=ID)\n",
    "df_positions = df_positions[[FLATTEN_POSITION]]\n",
    "df_positions.columns = [POSITION]"
   ]
  },
  {
   "cell_type": "code",
   "execution_count": 9,
   "metadata": {},
   "outputs": [
    {
     "name": "stdout",
     "output_type": "stream",
     "text": [
      "ok\n"
     ]
    },
    {
     "name": "stdout",
     "output_type": "stream",
     "text": [
      "ok\n"
     ]
    },
    {
     "name": "stdout",
     "output_type": "stream",
     "text": [
      "ok\n"
     ]
    },
    {
     "name": "stdout",
     "output_type": "stream",
     "text": [
      "ok\n"
     ]
    }
   ],
   "source": [
    "# COLLECTIVE CLASSIFICATION\n",
    "\n",
    "logger = CollectiveClassificationLogger('enron', levels)\n",
    "\n",
    "for month in range(1, SIZE + 1):\n",
    "    df_features = pd.read_csv(FILE_FEATURES.format(month), sep=';', index_col=ID)\n",
    "    df_features = assign_management_levels_cc(levels, df_features, df_positions)\n",
    "    \n",
    "    df_communication = pd.read_csv(FILE_MINIMUM_ACTIVITY.format(month), sep=';')\n",
    "    G = create_network(df_communication, weight=False)\n",
    "    G_undirected = G.to_undirected()\n",
    "    \n",
    "    for pct in pcts:\n",
    "        for threshold in thresholds:\n",
    "            for jaccard_min in jaccard_mins:\n",
    "                collective_classification(logger, month, G_undirected, df_features.copy(), pct, levels, df_positions.copy(), threshold, minority_labels, jaccard_min)\n"
   ]
  },
  {
   "cell_type": "code",
   "execution_count": 5,
   "metadata": {},
   "outputs": [],
   "source": [
    "import numpy as np"
   ]
  },
  {
   "cell_type": "code",
   "execution_count": 6,
   "metadata": {},
   "outputs": [
    {
     "data": {
      "text/plain": [
       "2    70\n1    29\nName: ManagementLevel, dtype: int64"
      ]
     },
     "execution_count": 6,
     "metadata": {},
     "output_type": "execute_result"
    }
   ],
   "source": [
    "df_features[POSITION].value_counts()"
   ]
  },
  {
   "cell_type": "code",
   "execution_count": 5,
   "metadata": {},
   "outputs": [
    {
     "name": "stdout",
     "output_type": "stream",
     "text": [
      "ok\n"
     ]
    }
   ],
   "source": [
    "df_features = pd.read_csv(FILE_FEATURES.format(1), sep=';', index_col=ID)\n",
    "df_features = assign_management_levels_cc(levels, df_features.copy(), df_positions.copy())"
   ]
  },
  {
   "cell_type": "code",
   "execution_count": 6,
   "metadata": {},
   "outputs": [],
   "source": [
    "df_employees = df_features.copy()\n",
    "df_employees[POSITION] = 2\n",
    "management_level = df_positions[df_positions[POSITION].isin(np.arange(1, levels))].index\n",
    "df_employees.loc[df_employees.index.isin(management_level), POSITION] = 1"
   ]
  },
  {
   "cell_type": "code",
   "execution_count": null,
   "metadata": {},
   "outputs": [],
   "source": [
    "df_employees[POSITION] = 2\n",
    "management_level = df_positions[df_positions[POSITION].isin(np.arange(1, levels))].index\n",
    "df_employees.loc[df_employees.index.isin(management_level), POSITION] = 1"
   ]
  },
  {
   "cell_type": "code",
   "execution_count": 7,
   "metadata": {},
   "outputs": [
    {
     "data": {
      "text/plain": [
       "2    70\n1    29\nName: ManagementLevel, dtype: int64"
      ]
     },
     "execution_count": 7,
     "metadata": {},
     "output_type": "execute_result"
    }
   ],
   "source": [
    "df_employees[POSITION].value_counts()"
   ]
  },
  {
   "cell_type": "code",
   "execution_count": 39,
   "metadata": {},
   "outputs": [
    {
     "data": {
      "text/plain": [
       "99"
      ]
     },
     "execution_count": 39,
     "metadata": {},
     "output_type": "execute_result"
    }
   ],
   "source": [
    "len(df_employees)"
   ]
  },
  {
   "cell_type": "code",
   "execution_count": 36,
   "metadata": {},
   "outputs": [
    {
     "data": {
      "text/plain": [
       "130"
      ]
     },
     "execution_count": 36,
     "metadata": {},
     "output_type": "execute_result"
    }
   ],
   "source": [
    "len(df_positions)"
   ]
  },
  {
   "cell_type": "code",
   "execution_count": null,
   "metadata": {},
   "outputs": [],
   "source": []
  }
 ],
 "metadata": {
  "kernelspec": {
   "display_name": "Python 2",
   "language": "python",
   "name": "python2"
  },
  "language_info": {
   "codemirror_mode": {
    "name": "ipython",
    "version": 2
   },
   "file_extension": ".py",
   "mimetype": "text/x-python",
   "name": "python",
   "nbconvert_exporter": "python",
   "pygments_lexer": "ipython2",
   "version": "2.7.6"
  }
 },
 "nbformat": 4,
 "nbformat_minor": 0
}
