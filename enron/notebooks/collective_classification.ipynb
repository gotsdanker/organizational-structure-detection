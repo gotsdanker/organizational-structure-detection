{
 "cells": [
  {
   "cell_type": "code",
   "execution_count": 7,
   "metadata": {
    "collapsed": true
   },
   "outputs": [],
   "source": [
    "# IMPORTS\n",
    "from enron.src.common.const import *\n",
    "from enron.src.classification_algorithms.assign_management_levels import *\n",
    "from enron.src.visualization.random_baseline_enron import *\n",
    "\n",
    "from manufacturing_company.src.common.const import *\n",
    "from manufacturing_company.src.network.social_network import *\n",
    "from manufacturing_company.src.classification_algorithms.collective_classification import *\n",
    "from manufacturing_company.src.logs.collective_classification_logger import CollectiveClassificationLogger\n",
    "from manufacturing_company.src.visualization.plot_collective_classification import PlotCollectiveClassification\n",
    "\n",
    "import warnings\n",
    "warnings.filterwarnings(action='once')\n"
   ]
  },
  {
   "cell_type": "code",
   "execution_count": 8,
   "metadata": {
    "collapsed": true
   },
   "outputs": [],
   "source": [
    "# CONST\n",
    "pcts = [0.9, 0.8, 0.7, 0.6, 0.5, 0.4, 0.3, 0.2, 0.1]\n",
    "thresholds = [2, 3, 4, 5, 6, 7, 8, 9, 10]\n",
    "jaccard_mins = [0.7, 0.8, 0.9, 0.99]\n",
    "levels = 2\n",
    "minority_labels = [] #[1, 2]\n",
    "\n",
    "positions = pd.read_csv(ENRON_FILE_FLATTEN_HIERARCHY, sep=';', index_col=ID)\n",
    "positions = positions[[FLATTEN_POSITION]]\n",
    "positions.columns = [POSITION]"
   ]
  },
  {
   "cell_type": "code",
   "execution_count": 1,
   "metadata": {},
   "outputs": [],
   "source": [
    "# COLLECTIVE CLASSIFICATION\n",
    "\n",
    "logger = CollectiveClassificationLogger('enron', levels)\n",
    "\n",
    "for month in range(MONTHS):\n",
    "    features = pd.read_csv(ENRON_FILE_FEATURES.format(month), sep=';', index_col=ID)\n",
    "    features = assign_management_levels_cc(levels, features, positions)\n",
    "\n",
    "    emails = pd.read_csv(ENRON_FILE_MINIMUM_ACTIVITY.format(month), sep=';')\n",
    "    G = create_network(emails, weight=False)\n",
    "    G_undirected = G.to_undirected()\n",
    "\n",
    "    for pct in pcts:\n",
    "        for threshold in thresholds:\n",
    "            for jaccard_min in jaccard_mins:\n",
    "                collective_classification(logger, month, G_undirected, features.copy(), pct, levels, threshold, minority_labels, jaccard_min)\n",
    "\n",
    "plot = PlotCollectiveClassification(logger.directory_path, levels, random_baseline_enron)\n",
    "plot.plot()"
   ]
  },
  {
   "cell_type": "code",
   "execution_count": null,
   "metadata": {},
   "outputs": [],
   "source": [
    ""
   ]
  }
 ],
 "metadata": {
  "kernelspec": {
   "display_name": "Python 2",
   "language": "python",
   "name": "python2"
  },
  "language_info": {
   "codemirror_mode": {
    "name": "ipython",
    "version": 2
   },
   "file_extension": ".py",
   "mimetype": "text/x-python",
   "name": "python",
   "nbconvert_exporter": "python",
   "pygments_lexer": "ipython2",
   "version": "2.7.6"
  }
 },
 "nbformat": 4,
 "nbformat_minor": 0
}
