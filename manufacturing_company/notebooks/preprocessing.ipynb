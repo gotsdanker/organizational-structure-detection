{
 "cells": [
  {
   "cell_type": "code",
   "execution_count": 1,
   "metadata": {
    "collapsed": true
   },
   "outputs": [],
   "source": [
    "# IMPORTS\n",
    "from manufacturing_company.src.common.const import *\n",
    "from manufacturing_company.src.data.import_data import *\n",
    "from manufacturing_company.src.features.data_cleaning import *\n",
    "from manufacturing_company.src.features.employee_activity import *"
   ]
  },
  {
   "cell_type": "code",
   "execution_count": 4,
   "metadata": {},
   "outputs": [],
   "source": [
    "# DATA CLEANING\n",
    "communication = load_communication()\n",
    "reportsto = load_reportsto()\n",
    "\n",
    "communication, reportsto = remove_former_employee_and_technical_accounts(communication, reportsto)\n",
    "\n",
    "communication.to_csv(MC_FILE_01_REMOVE_FORMER_EMPLOYEE_AND_TECHNICAL_ACCOUNTS_COMMUNICATION, sep=';', index=False)\n",
    "reportsto.to_csv(MC_FILE_01_REMOVE_FORMER_EMPLOYEE_AND_TECHNICAL_ACCOUNTS_REPORTSTO, sep=';', index=False)\n",
    "\n",
    "communication, reportsto = remove_messages_sent_to_yourself(communication, reportsto)\n",
    "\n",
    "communication.to_csv(MC_FILE_02_REMOVE_MESSAGES_SENT_TO_YOURSELF_COMMUNICATION, sep=';', index=False)\n",
    "reportsto.to_csv(MC_FILE_02_REMOVE_MESSAGES_SENT_TO_YOURSELF_REPORTSTO, sep=';', index=False)\n",
    "\n",
    "communication = communication.drop_duplicates([SENDER, RECIPIENT, EVENT_DATE])\n",
    "\n",
    "communication.to_csv(MC_FILE_03_DROP_DUPLICATES, sep=';', index=False)\n"
   ]
  },
  {
   "cell_type": "code",
   "execution_count": 3,
   "metadata": {
    "collapsed": true
   },
   "outputs": [],
   "source": [
    "# MINIMUM EMPLOYEE ACTIVITY\n",
    "communication[MONTH] = communication[EVENT_DATE].apply(lambda x: x.month)\n",
    "communication[YEAR] = communication[EVENT_DATE].apply(lambda x: x.year)\n",
    "\n",
    "for month in MONTHS:\n",
    "    communication = remove_employees_below_minimum_activity(communication, month)\n",
    "    communication.to_csv(MC_FILE_MINIMUM_ACTIVITY.format(month), sep=';', index=False)\n"
   ]
  },
  {
   "cell_type": "code",
   "execution_count": null,
   "metadata": {
    "collapsed": true
   },
   "outputs": [],
   "source": [
    ""
   ]
  }
 ],
 "metadata": {
  "kernelspec": {
   "display_name": "Python 2",
   "language": "python",
   "name": "python2"
  },
  "language_info": {
   "codemirror_mode": {
    "name": "ipython",
    "version": 2
   },
   "file_extension": ".py",
   "mimetype": "text/x-python",
   "name": "python",
   "nbconvert_exporter": "python",
   "pygments_lexer": "ipython2",
   "version": "2.7.6"
  }
 },
 "nbformat": 4,
 "nbformat_minor": 0
}
