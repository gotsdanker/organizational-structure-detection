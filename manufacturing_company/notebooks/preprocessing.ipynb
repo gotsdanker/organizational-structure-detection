{
 "cells": [
  {
   "cell_type": "code",
   "execution_count": 13,
   "metadata": {
    "collapsed": true
   },
   "outputs": [],
   "source": [
    "# IMPORTS\n",
    "from manufacturing_company.src.common.const import *\n",
    "from manufacturing_company.src.data.import_data import *\n",
    "from manufacturing_company.src.features.data_cleaning import *\n",
    "from manufacturing_company.src.features.employee_activity import *"
   ]
  },
  {
   "cell_type": "code",
   "execution_count": 14,
   "metadata": {},
   "outputs": [],
   "source": [
    "# DATA CLEANING\n",
    "communication = load_communication()\n",
    "reportsto = load_reportsto()\n",
    "\n",
    "communication, reportsto = remove_former_employee_and_technical_accounts(communication, reportsto)\n",
    "communication, reportsto = remove_messges_sent_to_yourself(communication, reportsto)\n",
    "\n",
    "communication.to_csv('manufacturing_company/data/intermediate/'\n",
    "                     '01_after_data_cleaning/communication.csv', sep=';', index=False)\n",
    "\n",
    "reportsto.to_csv('manufacturing_company/data/intermediate/'\n",
    "                     '01_after_data_cleaning/reportsto.csv', sep=';', index=False)\n"
   ]
  },
  {
   "cell_type": "code",
   "execution_count": 15,
   "metadata": {},
   "outputs": [],
   "source": [
    "# DROP DUPLICATE MESSAGES\n",
    "communication = communication.drop_duplicates([SENDER, RECIPIENT, EVENT_DATE])\n",
    "\n",
    "communication.to_csv('manufacturing_company/data/intermediate/'\n",
    "                     '02_drop_duplicates/communication.csv', sep=';', index=False)"
   ]
  },
  {
   "cell_type": "code",
   "execution_count": 16,
   "metadata": {
    "collapsed": true
   },
   "outputs": [],
   "source": [
    "# MINIMUM EMPLOYEE ACTIVITY\n",
    "communication[MONTH] = communication[EVENT_DATE].apply(lambda x: x.month)\n",
    "\n",
    "for i in range(1, 6):\n",
    "    communication = remove_employees_below_minimum_activity(communication, i)\n",
    "    communication.to_csv('manufacturing_company/data/intermediate/'\n",
    "                     '03_minimum_activity/' + str(i) + '_months_communication.csv', sep=';', index=False)"
   ]
  },
  {
   "cell_type": "code",
   "execution_count": null,
   "metadata": {},
   "outputs": [],
   "source": []
  }
 ],
 "metadata": {
  "kernelspec": {
   "display_name": "Python 2",
   "language": "python",
   "name": "python2"
  },
  "language_info": {
   "codemirror_mode": {
    "name": "ipython",
    "version": 2
   },
   "file_extension": ".py",
   "mimetype": "text/x-python",
   "name": "python",
   "nbconvert_exporter": "python",
   "pygments_lexer": "ipython2",
   "version": "2.7.6"
  }
 },
 "nbformat": 4,
 "nbformat_minor": 0
}
