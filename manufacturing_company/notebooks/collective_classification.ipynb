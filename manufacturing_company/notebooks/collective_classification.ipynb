{
 "cells": [
  {
   "cell_type": "code",
   "execution_count": 281,
   "metadata": {
    "collapsed": true
   },
   "outputs": [],
   "source": [
    "# IMPORTS\n",
    "from manufacturing_company.src.common.const import *\n",
    "from manufacturing_company.src.network.social_network import *\n",
    "from manufacturing_company.src.classification_algorithms.standard_classification import *\n",
    "\n",
    "from sklearn.metrics import jaccard_similarity_score, jaccard_score, f1_score"
   ]
  },
  {
   "cell_type": "code",
   "execution_count": 322,
   "metadata": {},
   "outputs": [],
   "source": [
    "# COLLECTIVE CLASSIFICATION\n",
    "df_positions = pd.read_csv('manufacturing_company/data/raw/positions.csv', sep=';', comment='#', index_col=ID)\n",
    "\n",
    "for i in range(1, SIZE + 1):\n",
    "    df_features = pd.read_csv('manufacturing_company/data/intermediate/05_features/' + str(i) + '_months_features.csv', sep=';', index_col=ID)\n",
    "    \n",
    "    df_communication = pd.read_csv('manufacturing_company/data/intermediate/03_minimum_activity/' + str(i) + '_months_communication.csv', sep=';')\n",
    "    G = create_network(df_communication, weight=False)\n",
    "    \n",
    "    "
   ]
  },
  {
   "cell_type": "code",
   "execution_count": 323,
   "metadata": {},
   "outputs": [],
   "source": [
    "def select_nodes_based_on_utility_score(utility_score_name, utility_score, pct, levels):  \n",
    "    utility_score = utility_score.sort_values(utility_score_name, ascending=False)\n",
    "\n",
    "    known_nodes_map = dict()\n",
    "    \n",
    "    for position in range(1, levels + 1):\n",
    "        employees_on_given_position = utility_score[utility_score[POSITION] == position]\n",
    "        all_nodes = len(employees_on_given_position)\n",
    "        known_nodes = round(all_nodes * pct)\n",
    "        \n",
    "        known_nodes_id = employees_on_given_position.iloc[:known_nodes].index\n",
    "        known_nodes_map.update({id: position for id in known_nodes_id})\n",
    "        \n",
    "    return known_nodes_map\n"
   ]
  },
  {
   "cell_type": "code",
   "execution_count": 324,
   "metadata": {},
   "outputs": [],
   "source": [
    "def message_passing(G, known_nodes, threshold): \n",
    "    df_nodes = pd.DataFrame(G.nodes(data='utility_score'), columns=[ID, 'utility_score'])\n",
    "    df_nodes = df_nodes.set_index(ID)\n",
    "    \n",
    "    order_desc = df_nodes.sort_values('utility_score', ascending=False).index\n",
    "    \n",
    "    nodes = pd.DataFrame(G.nodes(data='label'), columns=[ID, 'label'])\n",
    "    nodes = nodes.set_index(ID)\n",
    "    nodes = nodes.loc[order_desc, 'label'].to_dict()\n",
    "    # print(nodes)\n",
    "    label_hist = {k: [] for k in nodes.keys()}\n",
    "    \n",
    "    G = G.to_undirected()\n",
    "    \n",
    "    end = False\n",
    "    \n",
    "    while not end:\n",
    "        old_labels = [value for (key, value) in nodes.items() if key not in known_nodes]\n",
    "        for node, label in nodes.items():\n",
    "            if label != -1:\n",
    "                neighbors = G.neighbors(node)\n",
    "                \n",
    "                for neighbor in neighbors:\n",
    "                    neighbor_label = nodes[neighbor]\n",
    "                    if neighbor not in known_nodes:\n",
    "                        if label == 1:\n",
    "                            # print('LABEL: ' + str(label))\n",
    "                            nodes[neighbor] = label\n",
    "                            label_hist[neighbor] = []\n",
    "                        else:\n",
    "                            label_hist[neighbor].append(label)\n",
    "                            if label_hist[neighbor].count(label) >= threshold:\n",
    "                                # print('in majority')\n",
    "                                nodes[neighbor] = label\n",
    "                                label_hist[neighbor] = []\n",
    "        new_labels = [value for (key, value) in nodes.items() if key not in known_nodes]\n",
    "        print(old_labels)\n",
    "        print(new_labels)\n",
    "        if jaccard_score(old_labels, new_labels, average='micro') >= 0.99:\n",
    "        # if jaccard_similarity_score(old_labels, new_labels) >= 0.9:\n",
    "            end = True\n",
    "        \n",
    "    return nodes\n"
   ]
  },
  {
   "cell_type": "code",
   "execution_count": 325,
   "metadata": {},
   "outputs": [],
   "source": [
    "def collective_classification(G, df_features, pct, levels, df_positions, threshold):\n",
    "    feature_names = df_features.columns\n",
    "    \n",
    "    df_features = assign_management_levels(levels, df_features, df_positions)\n",
    "    \n",
    "    for utility_score_name in feature_names:\n",
    "        utility_score = df_features[[utility_score_name, POSITION]]     \n",
    "        known_nodes = select_nodes_based_on_utility_score(utility_score_name, utility_score, pct, levels)\n",
    "        \n",
    "        nx.set_node_attributes(G, -1, 'label')\n",
    "        nx.set_node_attributes(G, known_nodes, 'label')\n",
    "        nx.set_node_attributes(G, utility_score[utility_score_name], 'utility_score')\n",
    "        \n",
    "        nodes = message_passing(G, known_nodes, threshold)\n",
    "        # print(nodes)\n",
    "        nodes = pd.DataFrame.from_dict(nodes, orient='index', columns=[POSITION])\n",
    "        nodes.index.name = ID\n",
    "        \n",
    "        nodes = nodes.loc[~nodes.index.isin(known_nodes)]\n",
    "        \n",
    "        df_merged = pd.merge(nodes, df_features[POSITION], on=ID)\n",
    "        print(df_merged)\n",
    "        f1 = f1_score(df_merged.iloc[:, 0], df_merged.iloc[:, 1], average='macro')\n",
    "        print('PCT: ', pct)\n",
    "        print('F1: ', f1)\n",
    "        print('Utiliti score: ', utility_score_name)\n",
    "        print('***********************************')\n",
    "        "
   ]
  },
  {
   "cell_type": "code",
   "execution_count": 327,
   "metadata": {
    "collapsed": true
   },
   "outputs": [
    {
     "name": "stdout",
     "output_type": "stream",
     "text": [
      "[-1, -1, -1, -1, -1, -1, -1, -1, -1, -1, -1, -1, -1, -1, -1, -1, -1, -1, -1, -1, -1, -1, -1, -1, -1, -1, -1, -1, -1, -1, -1, -1, -1, -1, -1, -1, -1, -1, -1, -1, -1, -1, -1, -1, -1, -1, -1, -1]\n[2, 2, 2, 2, 2, 2, 2, 2, 2, 2, 2, 2, 2, 2, 2, 2, 2, 2, 2, 2, 2, 2, 2, 2, 2, 2, 2, 2, 2, 2, 2, 2, 2, 2, 2, 2, 2, 2, 2, 2, 2, 2, 2, 2, 2, 2, 2, 2]\n[2, 2, 2, 2, 2, 2, 2, 2, 2, 2, 2, 2, 2, 2, 2, 2, 2, 2, 2, 2, 2, 2, 2, 2, 2, 2, 2, 2, 2, 2, 2, 2, 2, 2, 2, 2, 2, 2, 2, 2, 2, 2, 2, 2, 2, 2, 2, 2]\n[2, 2, 2, 2, 2, 2, 2, 2, 2, 2, 2, 2, 2, 2, 2, 2, 2, 2, 2, 2, 2, 2, 2, 2, 2, 2, 2, 2, 2, 2, 2, 2, 2, 2, 2, 2, 2, 2, 2, 2, 2, 2, 2, 2, 2, 2, 2, 2]\n     ManagementLevel_x  ManagementLevel_y\nID                                       \n163                  2                  1\n137                  2                  1\n143                  2                  1\n86                   2                  1\n66                   2                  2\n153                  2                  2\n113                  2                  2\n145                  2                  2\n58                   2                  2\n27                   2                  1\n67                   2                  2\n81                   2                  2\n161                  2                  2\n50                   2                  2\n91                   2                  2\n151                  2                  2\n162                  2                  1\n44                   2                  2\n164                  2                  2\n123                  2                  2\n84                   2                  2\n127                  2                  2\n165                  2                  2\n34                   2                  2\n41                   2                  2\n116                  2                  2\n88                   2                  2\n63                   2                  2\n144                  2                  2\n158                  2                  2\n149                  2                  2\n147                  2                  2\n92                   2                  2\n28                   2                  2\n74                   2                  2\n146                  2                  2\n16                   2                  2\n42                   2                  2\n142                  2                  2\n125                  2                  2\n104                  2                  1\n140                  2                  2\n109                  2                  2\n15                   2                  2\n157                  2                  2\n134                  2                  2\n124                  2                  2\n68                   2                  2\nPCT:  0.6\nF1:  0.4606741573033708\nUtiliti score:  in_degree\n***********************************\n[-1, -1, -1, -1, -1, -1, -1, -1, -1, -1, -1, -1, -1, -1, -1, -1, -1, -1, -1, -1, -1, -1, -1, -1, -1, -1, -1, -1, -1, -1, -1, -1, -1, -1, -1, -1, -1, -1, -1, -1, -1, -1, -1, -1, -1, -1, -1, -1]\n[2, 2, 2, 2, 2, 2, 2, 2, 2, 2, 2, 2, 2, 2, 2, 2, 2, 2, 2, 2, 2, 2, 2, 2, 2, 2, 2, 2, 2, 2, 2, 2, 2, 2, 2, 2, 2, 2, 2, 2, 2, 2, 2, 2, 2, 2, 2, 2]\n[2, 2, 2, 2, 2, 2, 2, 2, 2, 2, 2, 2, 2, 2, 2, 2, 2, 2, 2, 2, 2, 2, 2, 2, 2, 2, 2, 2, 2, 2, 2, 2, 2, 2, 2, 2, 2, 2, 2, 2, 2, 2, 2, 2, 2, 2, 2, 2]\n[2, 2, 2, 2, 2, 2, 2, 2, 2, 2, 2, 2, 2, 2, 2, 2, 2, 2, 2, 2, 2, 2, 2, 2, 2, 2, 2, 2, 2, 2, 2, 2, 2, 2, 2, 2, 2, 2, 2, 2, 2, 2, 2, 2, 2, 2, 2, 2]\n     ManagementLevel_x  ManagementLevel_y\nID                                       \n86                   2                  1\n143                  2                  1\n163                  2                  1\n154                  2                  2\n137                  2                  1\n110                  2                  2\n81                   2                  2\n151                  2                  2\n145                  2                  2\n58                   2                  2\n50                   2                  2\n67                   2                  2\n161                  2                  2\n113                  2                  2\n162                  2                  1\n27                   2                  1\n34                   2                  2\n44                   2                  2\n91                   2                  2\n84                   2                  2\n147                  2                  2\n41                   2                  2\n123                  2                  2\n88                   2                  2\n165                  2                  2\n127                  2                  2\n158                  2                  2\n116                  2                  2\n28                   2                  2\n63                   2                  2\n144                  2                  2\n149                  2                  2\n146                  2                  2\n66                   2                  2\n16                   2                  2\n74                   2                  2\n92                   2                  2\n125                  2                  2\n104                  2                  1\n140                  2                  2\n42                   2                  2\n142                  2                  2\n109                  2                  2\n15                   2                  2\n134                  2                  2\n157                  2                  2\n124                  2                  2\n68                   2                  2\nPCT:  0.6\nF1:  0.4606741573033708\nUtiliti score:  out_degree\n***********************************\n[-1, -1, -1, -1, -1, -1, -1, -1, -1, -1, -1, -1, -1, -1, -1, -1, -1, -1, -1, -1, -1, -1, -1, -1, -1, -1, -1, -1, -1, -1, -1, -1, -1, -1, -1, -1, -1, -1, -1, -1, -1, -1, -1, -1, -1, -1, -1, -1]\n[2, 2, 2, 2, 2, 2, 2, 2, 2, 2, 2, 2, 2, 2, 2, 2, 2, 2, 2, 2, 2, 2, 2, 2, 2, 2, 2, 2, 2, 2, 2, 2, 2, 2, 2, 2, 2, 2, 2, 2, 2, 2, 2, 2, 2, 2, 2, 2]\n[2, 2, 2, 2, 2, 2, 2, 2, 2, 2, 2, 2, 2, 2, 2, 2, 2, 2, 2, 2, 2, 2, 2, 2, 2, 2, 2, 2, 2, 2, 2, 2, 2, 2, 2, 2, 2, 2, 2, 2, 2, 2, 2, 2, 2, 2, 2, 2]\n[2, 2, 2, 2, 2, 2, 2, 2, 2, 2, 2, 2, 2, 2, 2, 2, 2, 2, 2, 2, 2, 2, 2, 2, 2, 2, 2, 2, 2, 2, 2, 2, 2, 2, 2, 2, 2, 2, 2, 2, 2, 2, 2, 2, 2, 2, 2, 2]\n     ManagementLevel_x  ManagementLevel_y\nID                                       \n156                  2                  1\n121                  2                  1\n104                  2                  1\n92                   2                  2\n124                  2                  2\n154                  2                  2\n149                  2                  2\n50                   2                  2\n145                  2                  2\n109                  2                  2\n63                   2                  2\n134                  2                  2\n15                   2                  2\n125                  2                  2\n140                  2                  2\n72                   2                  2\n147                  2                  2\n67                   2                  2\n66                   2                  2\n105                  2                  2\n158                  2                  2\n146                  2                  2\n81                   2                  2\n112                  2                  2\n57                   2                  2\n94                   2                  2\n77                   2                  2\n162                  2                  1\n142                  2                  2\n30                   2                  2\n150                  2                  2\n91                   2                  2\n143                  2                  1\n151                  2                  2\n144                  2                  2\n108                  2                  2\n44                   2                  2\n123                  2                  2\n84                   2                  2\n116                  2                  2\n95                   2                  2\n127                  2                  2\n137                  2                  1\n27                   2                  1\n113                  2                  2\n3                    2                  2\n58                   2                  2\n34                   2                  2\nPCT:  0.6\nF1:  0.4606741573033708\nUtiliti score:  betweenness\n***********************************\n[-1, -1, -1, -1, -1, -1, -1, -1, -1, -1, -1, -1, -1, -1, -1, -1, -1, -1, -1, -1, -1, -1, -1, -1, -1, -1, -1, -1, -1, -1, -1, -1, -1, -1, -1, -1, -1, -1, -1, -1, -1, -1, -1, -1, -1, -1, -1, -1]\n[1, 1, 1, 1, 1, 1, 1, 1, 1, 2, 1, 1, 1, 1, 1, 1, 1, 1, 1, 1, 1, 1, 1, 1, 1, 1, 1, 1, 1, 1, 1, 1, 1, 1, 1, 1, 1, 1, 1, 1, 1, 1, 1, 1, 1, 1, 1, 1]\n[1, 1, 1, 1, 1, 1, 1, 1, 1, 2, 1, 1, 1, 1, 1, 1, 1, 1, 1, 1, 1, 1, 1, 1, 1, 1, 1, 1, 1, 1, 1, 1, 1, 1, 1, 1, 1, 1, 1, 1, 1, 1, 1, 1, 1, 1, 1, 1]\n[1, 1, 1, 1, 1, 1, 1, 1, 1, 2, 1, 1, 1, 1, 1, 1, 1, 1, 1, 1, 1, 1, 1, 1, 1, 1, 1, 1, 1, 1, 1, 1, 1, 1, 1, 1, 1, 1, 1, 1, 1, 1, 1, 1, 1, 1, 1, 1]\n     ManagementLevel_x  ManagementLevel_y\nID                                       \n123                  1                  2\n57                   1                  2\n61                   1                  2\n119                  1                  2\n14                   1                  2\n98                   1                  2\n3                    1                  2\n63                   1                  2\n110                  1                  2\n92                   2                  2\n54                   1                  2\n8                    1                  2\n130                  1                  2\n132                  1                  2\n103                  1                  2\n128                  1                  2\n129                  1                  2\n83                   1                  2\n55                   1                  2\n52                   1                  2\n11                   1                  2\n37                   1                  2\n118                  1                  2\n141                  1                  2\n163                  1                  1\n156                  1                  1\n19                   1                  2\n95                   1                  2\n107                  1                  2\n13                   1                  2\n44                   1                  2\n102                  1                  2\n146                  1                  2\n161                  1                  2\n148                  1                  1\n67                   1                  2\n152                  1                  1\n80                   1                  2\n85                   1                  1\n32                   1                  2\n41                   1                  2\n133                  1                  2\n136                  1                  1\n112                  1                  2\n50                   1                  2\n158                  1                  2\n36                   1                  1\n39                   1                  2\nPCT:  0.6\nF1:  0.15343915343915343\nUtiliti score:  closeness\n***********************************\n"
     ]
    },
    {
     "name": "stderr",
     "output_type": "stream",
     "text": [
      "/Users/mateusz/anaconda3/lib/python3.6/site-packages/sklearn/metrics/classification.py:1439: UndefinedMetricWarning: F-score is ill-defined and being set to 0.0 in labels with no true samples.\n  'recall', 'true', average, warn_for)\n/Users/mateusz/anaconda3/lib/python3.6/site-packages/sklearn/metrics/classification.py:1439: UndefinedMetricWarning: F-score is ill-defined and being set to 0.0 in labels with no true samples.\n  'recall', 'true', average, warn_for)\n/Users/mateusz/anaconda3/lib/python3.6/site-packages/sklearn/metrics/classification.py:1439: UndefinedMetricWarning: F-score is ill-defined and being set to 0.0 in labels with no true samples.\n  'recall', 'true', average, warn_for)\n"
     ]
    },
    {
     "name": "stdout",
     "output_type": "stream",
     "text": [
      "[-1, -1, -1, -1, -1, -1, -1, -1, -1, -1, -1, -1, -1, -1, -1, -1, -1, -1, -1, -1, -1, -1, -1, -1, -1, -1, -1, -1, -1, -1, -1, -1, -1, -1, -1, -1, -1, -1, -1, -1, -1, -1, -1, -1, -1, -1, -1, -1]\n[1, 1, 1, 1, 1, 1, 1, 1, 1, 1, 1, 1, 1, 1, 1, 1, 1, 1, 1, 1, 1, 1, 1, 1, 1, 1, 1, 1, 1, 1, 1, 1, 1, 1, 1, 1, 1, 1, 1, 1, 1, 1, 1, 1, 1, 1, 1, 1]\n[1, 1, 1, 1, 1, 1, 1, 1, 1, 1, 1, 1, 1, 1, 1, 1, 1, 1, 1, 1, 1, 1, 1, 1, 1, 1, 1, 1, 1, 1, 1, 1, 1, 1, 1, 1, 1, 1, 1, 1, 1, 1, 1, 1, 1, 1, 1, 1]\n[1, 1, 1, 1, 1, 1, 1, 1, 1, 1, 1, 1, 1, 1, 1, 1, 1, 1, 1, 1, 1, 1, 1, 1, 1, 1, 1, 1, 1, 1, 1, 1, 1, 1, 1, 1, 1, 1, 1, 1, 1, 1, 1, 1, 1, 1, 1, 1]\n     ManagementLevel_x  ManagementLevel_y\nID                                       \n125                  1                  2\n134                  1                  2\n63                   1                  2\n92                   1                  2\n34                   1                  2\n27                   1                  1\n141                  1                  2\n107                  1                  2\n128                  1                  2\n91                   1                  2\n64                   1                  2\n16                   1                  2\n30                   1                  2\n127                  1                  2\n165                  1                  2\n65                   1                  2\n105                  1                  2\n157                  1                  2\n69                   1                  1\n66                   1                  2\n15                   1                  2\n42                   1                  2\n140                  1                  2\n153                  1                  2\n162                  1                  1\n90                   1                  1\n121                  1                  1\n146                  1                  2\n142                  1                  2\n3                    1                  2\n102                  1                  2\n83                   1                  2\n68                   1                  2\n119                  1                  2\n74                   1                  2\n18                   1                  2\n151                  1                  2\n37                   1                  2\n57                   1                  2\n86                   1                  1\n55                   1                  2\n94                   1                  2\n39                   1                  2\n47                   1                  1\n117                  1                  2\n164                  1                  2\n130                  1                  2\n89                   1                  2\nPCT:  0.6\nF1:  0.1272727272727273\nUtiliti score:  eigenvector\n***********************************\n[-1, -1, -1, -1, -1, -1, -1, -1, -1, -1, -1, -1, -1, -1, -1, -1, -1, -1, -1, -1, -1, -1, -1, -1, -1, -1, -1, -1, -1, -1, -1, -1, -1, -1, -1, -1, -1, -1, -1, -1, -1, -1, -1, -1, -1, -1, -1, -1]\n[2, 2, 2, 2, 2, 2, 2, 2, 2, 2, 2, 2, 2, 2, 2, 2, 2, 2, 2, 2, 2, 2, 2, 2, 2, 2, 2, 2, 2, 2, 2, 2, 2, 2, 2, 2, 2, 2, 2, 2, 2, 2, 2, 2, 2, 2, 2, 2]\n[2, 2, 2, 2, 2, 2, 2, 2, 2, 2, 2, 2, 2, 2, 2, 2, 2, 2, 2, 2, 2, 2, 2, 2, 2, 2, 2, 2, 2, 2, 2, 2, 2, 2, 2, 2, 2, 2, 2, 2, 2, 2, 2, 2, 2, 2, 2, 2]\n[2, 2, 2, 2, 2, 2, 2, 2, 2, 2, 2, 2, 2, 2, 2, 2, 2, 2, 2, 2, 2, 2, 2, 2, 2, 2, 2, 2, 2, 2, 2, 2, 2, 2, 2, 2, 2, 2, 2, 2, 2, 2, 2, 2, 2, 2, 2, 2]\n     ManagementLevel_x  ManagementLevel_y\nID                                       \n137                  2                  1\n163                  2                  1\n86                   2                  1\n36                   2                  1\n113                  2                  2\n44                   2                  2\n135                  2                  2\n22                   2                  2\n119                  2                  2\n107                  2                  2\n33                   2                  2\n39                   2                  2\n57                   2                  2\n126                  2                  2\n129                  2                  2\n11                   2                  2\n156                  2                  1\n14                   2                  2\n78                   2                  2\n60                   2                  2\n8                    2                  2\n117                  2                  2\n55                   2                  2\n37                   2                  2\n66                   2                  2\n32                   2                  2\n166                  2                  2\n13                   2                  2\n85                   2                  1\n118                  2                  2\n83                   2                  2\n103                  2                  2\n52                   2                  2\n47                   2                  1\n105                  2                  2\n150                  2                  2\n97                   2                  2\n94                   2                  2\n17                   2                  2\n18                   2                  2\n108                  2                  2\n45                   2                  2\n164                  2                  2\n101                  2                  2\n89                   2                  2\n73                   2                  2\n130                  2                  2\n132                  2                  2\nPCT:  0.6\nF1:  0.4606741573033708\nUtiliti score:  clustering_coeff\n***********************************\n[-1, -1, -1, -1, -1, -1, -1, -1, -1, -1, -1, -1, -1, -1, -1, -1, -1, -1, -1, -1, -1, -1, -1, -1, -1, -1, -1, -1, -1, -1, -1, -1, -1, -1, -1, -1, -1, -1, -1, -1, -1, -1, -1, -1, -1, -1, -1, -1]\n[2, 2, 2, 2, 2, 2, 2, 2, 2, 2, 2, 2, 2, 2, 2, 2, 2, 2, 2, 2, 2, 2, 2, 2, 2, 2, 2, 2, 2, 2, 2, 2, 2, 2, 2, 2, 2, 2, 2, 2, 2, 2, 2, 2, 2, 2, 2, 2]\n[2, 2, 2, 2, 2, 2, 2, 2, 2, 2, 2, 2, 2, 2, 2, 2, 2, 2, 2, 2, 2, 2, 2, 2, 2, 2, 2, 2, 2, 2, 2, 2, 2, 2, 2, 2, 2, 2, 2, 2, 2, 2, 2, 2, 2, 2, 2, 2]\n[2, 2, 2, 2, 2, 2, 2, 2, 2, 2, 2, 2, 2, 2, 2, 2, 2, 2, 2, 2, 2, 2, 2, 2, 2, 2, 2, 2, 2, 2, 2, 2, 2, 2, 2, 2, 2, 2, 2, 2, 2, 2, 2, 2, 2, 2, 2, 2]\n     ManagementLevel_x  ManagementLevel_y\nID                                       \n163                  2                  1\n143                  2                  1\n156                  2                  1\n158                  2                  2\n92                   2                  2\n105                  2                  2\n72                   2                  2\n32                   2                  2\n61                   2                  2\n58                   2                  2\n18                   2                  2\n27                   2                  1\n162                  2                  1\n113                  2                  2\n123                  2                  2\n66                   2                  2\n153                  2                  2\n22                   2                  2\n150                  2                  2\n137                  2                  1\n165                  2                  2\n67                   2                  2\n146                  2                  2\n108                  2                  2\n144                  2                  2\n125                  2                  2\n91                   2                  2\n44                   2                  2\n63                   2                  2\n116                  2                  2\n16                   2                  2\n140                  2                  2\n149                  2                  2\n28                   2                  2\n142                  2                  2\n147                  2                  2\n157                  2                  2\n164                  2                  2\n34                   2                  2\n151                  2                  2\n124                  2                  2\n145                  2                  2\n15                   2                  2\n42                   2                  2\n104                  2                  1\n109                  2                  2\n134                  2                  2\n68                   2                  2\nPCT:  0.6\nF1:  0.4606741573033708\nUtiliti score:  pagerank\n***********************************\n"
     ]
    },
    {
     "name": "stderr",
     "output_type": "stream",
     "text": [
      "/Users/mateusz/anaconda3/lib/python3.6/site-packages/sklearn/metrics/classification.py:1439: UndefinedMetricWarning: F-score is ill-defined and being set to 0.0 in labels with no true samples.\n  'recall', 'true', average, warn_for)\n/Users/mateusz/anaconda3/lib/python3.6/site-packages/sklearn/metrics/classification.py:1439: UndefinedMetricWarning: F-score is ill-defined and being set to 0.0 in labels with no true samples.\n  'recall', 'true', average, warn_for)\n/Users/mateusz/anaconda3/lib/python3.6/site-packages/sklearn/metrics/classification.py:1439: UndefinedMetricWarning: F-score is ill-defined and being set to 0.0 in labels with no true samples.\n  'recall', 'true', average, warn_for)\n/Users/mateusz/anaconda3/lib/python3.6/site-packages/sklearn/metrics/classification.py:1439: UndefinedMetricWarning: F-score is ill-defined and being set to 0.0 in labels with no true samples.\n  'recall', 'true', average, warn_for)\n"
     ]
    },
    {
     "name": "stdout",
     "output_type": "stream",
     "text": [
      "[-1, -1, -1, -1, -1, -1, -1, -1, -1, -1, -1, -1, -1, -1, -1, -1, -1, -1, -1, -1, -1, -1, -1, -1, -1, -1, -1, -1, -1, -1, -1, -1, -1, -1, -1, -1, -1, -1, -1, -1, -1, -1, -1, -1, -1, -1, -1, -1]\n[2, 2, 2, 2, 2, 2, 2, 2, 2, 2, 2, 2, 2, 2, 2, 2, 2, 2, 2, 2, 2, 2, 2, 2, 2, 2, 2, 2, 2, 2, 2, 2, 2, 2, 2, 2, 2, 2, 2, 2, 2, 2, 2, 2, 2, 2, 2, 2]\n[2, 2, 2, 2, 2, 2, 2, 2, 2, 2, 2, 2, 2, 2, 2, 2, 2, 2, 2, 2, 2, 2, 2, 2, 2, 2, 2, 2, 2, 2, 2, 2, 2, 2, 2, 2, 2, 2, 2, 2, 2, 2, 2, 2, 2, 2, 2, 2]\n[2, 2, 2, 2, 2, 2, 2, 2, 2, 2, 2, 2, 2, 2, 2, 2, 2, 2, 2, 2, 2, 2, 2, 2, 2, 2, 2, 2, 2, 2, 2, 2, 2, 2, 2, 2, 2, 2, 2, 2, 2, 2, 2, 2, 2, 2, 2, 2]\n     ManagementLevel_x  ManagementLevel_y\nID                                       \n121                  2                  1\n156                  2                  1\n65                   2                  2\n126                  2                  2\n154                  2                  2\n147                  2                  2\n105                  2                  2\n91                   2                  2\n89                   2                  2\n22                   2                  2\n127                  2                  2\n150                  2                  2\n145                  2                  2\n78                   2                  2\n37                   2                  2\n66                   2                  2\n94                   2                  2\n108                  2                  2\n47                   2                  1\n63                   2                  2\n18                   2                  2\n27                   2                  1\n90                   2                  1\n61                   2                  2\n109                  2                  2\n163                  2                  1\n119                  2                  2\n64                   2                  2\n82                   2                  2\n165                  2                  2\n101                  2                  2\n45                   2                  2\n52                   2                  2\n129                  2                  2\n118                  2                  2\n67                   2                  2\n57                   2                  2\n117                  2                  2\n34                   2                  2\n60                   2                  2\n162                  2                  1\n151                  2                  2\n113                  2                  2\n92                   2                  2\n72                   2                  2\n42                   2                  2\n98                   2                  2\n88                   2                  2\nPCT:  0.6\nF1:  0.4606741573033708\nUtiliti score:  hubs\n***********************************\n[-1, -1, -1, -1, -1, -1, -1, -1, -1, -1, -1, -1, -1, -1, -1, -1, -1, -1, -1, -1, -1, -1, -1, -1, -1, -1, -1, -1, -1, -1, -1, -1, -1, -1, -1, -1, -1, -1, -1, -1, -1, -1, -1, -1, -1, -1, -1, -1]\n[2, 2, 2, 2, 2, 2, 2, 2, 2, 2, 2, 2, 2, 2, 2, 2, 2, 2, 2, 2, 2, 2, 2, 2, 2, 2, 2, 2, 2, 2, 2, 2, 2, 2, 2, 2, 2, 2, 2, 2, 2, 2, 2, 2, 2, 2, 2, 2]\n[2, 2, 2, 2, 2, 2, 2, 2, 2, 2, 2, 2, 2, 2, 2, 2, 2, 2, 2, 2, 2, 2, 2, 2, 2, 2, 2, 2, 2, 2, 2, 2, 2, 2, 2, 2, 2, 2, 2, 2, 2, 2, 2, 2, 2, 2, 2, 2]\n[2, 2, 2, 2, 2, 2, 2, 2, 2, 2, 2, 2, 2, 2, 2, 2, 2, 2, 2, 2, 2, 2, 2, 2, 2, 2, 2, 2, 2, 2, 2, 2, 2, 2, 2, 2, 2, 2, 2, 2, 2, 2, 2, 2, 2, 2, 2, 2]\n     ManagementLevel_x  ManagementLevel_y\nID                                       \n86                   2                  1\n156                  2                  1\n163                  2                  1\n108                  2                  2\n140                  2                  2\n13                   2                  2\n41                   2                  2\n154                  2                  2\n14                   2                  2\n127                  2                  2\n137                  2                  1\n162                  2                  1\n66                   2                  2\n27                   2                  1\n113                  2                  2\n22                   2                  2\n150                  2                  2\n165                  2                  2\n84                   2                  2\n67                   2                  2\n16                   2                  2\n18                   2                  2\n123                  2                  2\n153                  2                  2\n158                  2                  2\n91                   2                  2\n44                   2                  2\n125                  2                  2\n144                  2                  2\n146                  2                  2\n116                  2                  2\n63                   2                  2\n147                  2                  2\n28                   2                  2\n142                  2                  2\n164                  2                  2\n157                  2                  2\n151                  2                  2\n149                  2                  2\n34                   2                  2\n145                  2                  2\n104                  2                  1\n42                   2                  2\n15                   2                  2\n124                  2                  2\n109                  2                  2\n134                  2                  2\n68                   2                  2\nPCT:  0.6\nF1:  0.4606741573033708\nUtiliti score:  authorities\n***********************************\n[-1, -1, -1, -1, -1, -1, -1, -1, -1, -1, -1, -1, -1, -1, -1, -1, -1, -1, -1, -1, -1, -1, -1, -1, -1, -1, -1, -1, -1, -1, -1, -1, -1, -1, -1, -1, -1, -1, -1, -1, -1, -1, -1, -1, -1, -1, -1, -1]\n[2, 2, 2, 2, 2, 2, 2, 2, 2, 2, 2, 2, 2, 2, 2, 2, 2, 2, 2, 2, 2, 2, 2, 2, 2, 2, 2, 2, 2, 2, 2, 2, 2, 2, 2, 2, 2, 2, 2, 2, 2, 2, 2, 2, 2, 2, 2, 2]\n[2, 2, 2, 2, 2, 2, 2, 2, 2, 2, 2, 2, 2, 2, 2, 2, 2, 2, 2, 2, 2, 2, 2, 2, 2, 2, 2, 2, 2, 2, 2, 2, 2, 2, 2, 2, 2, 2, 2, 2, 2, 2, 2, 2, 2, 2, 2, 2]\n[2, 2, 2, 2, 2, 2, 2, 2, 2, 2, 2, 2, 2, 2, 2, 2, 2, 2, 2, 2, 2, 2, 2, 2, 2, 2, 2, 2, 2, 2, 2, 2, 2, 2, 2, 2, 2, 2, 2, 2, 2, 2, 2, 2, 2, 2, 2, 2]\n     ManagementLevel_x  ManagementLevel_y\nID                                       \n163                  2                  1\n90                   2                  1\n27                   2                  1\n137                  2                  1\n143                  2                  1\n108                  2                  2\n151                  2                  2\n149                  2                  2\n30                   2                  2\n150                  2                  2\n77                   2                  2\n81                   2                  2\n144                  2                  2\n18                   2                  2\n44                   2                  2\n162                  2                  1\n58                   2                  2\n32                   2                  2\n63                   2                  2\n110                  2                  2\n28                   2                  2\n41                   2                  2\n147                  2                  2\n66                   2                  2\n116                  2                  2\n123                  2                  2\n35                   2                  2\n84                   2                  2\n158                  2                  2\n127                  2                  2\n91                   2                  2\n92                   2                  2\n165                  2                  2\n88                   2                  2\n109                  2                  2\n125                  2                  2\n140                  2                  2\n146                  2                  2\n16                   2                  2\n142                  2                  2\n15                   2                  2\n157                  2                  2\n104                  2                  1\n42                   2                  2\n74                   2                  2\n124                  2                  2\n134                  2                  2\n68                   2                  2\nPCT:  0.6\nF1:  0.4606741573033708\nUtiliti score:  max_clique\n***********************************\n"
     ]
    },
    {
     "name": "stderr",
     "output_type": "stream",
     "text": [
      "/Users/mateusz/anaconda3/lib/python3.6/site-packages/sklearn/metrics/classification.py:1439: UndefinedMetricWarning: F-score is ill-defined and being set to 0.0 in labels with no true samples.\n  'recall', 'true', average, warn_for)\n/Users/mateusz/anaconda3/lib/python3.6/site-packages/sklearn/metrics/classification.py:1439: UndefinedMetricWarning: F-score is ill-defined and being set to 0.0 in labels with no true samples.\n  'recall', 'true', average, warn_for)\n/Users/mateusz/anaconda3/lib/python3.6/site-packages/sklearn/metrics/classification.py:1439: UndefinedMetricWarning: F-score is ill-defined and being set to 0.0 in labels with no true samples.\n  'recall', 'true', average, warn_for)\n/Users/mateusz/anaconda3/lib/python3.6/site-packages/sklearn/metrics/classification.py:1439: UndefinedMetricWarning: F-score is ill-defined and being set to 0.0 in labels with no true samples.\n  'recall', 'true', average, warn_for)\n"
     ]
    },
    {
     "name": "stdout",
     "output_type": "stream",
     "text": [
      "[-1, -1, -1, -1, -1, -1, -1, -1, -1, -1, -1, -1, -1, -1, -1, -1, -1, -1, -1, -1, -1, -1, -1, -1, -1, -1, -1, -1, -1, -1, -1, -1, -1, -1, -1, -1, -1, -1, -1, -1, -1, -1, -1, -1, -1, -1, -1, -1]\n[2, 2, 2, 2, 2, 2, 2, 2, 2, 2, 2, 2, 2, 2, 2, 2, 2, 2, 2, 2, 2, 2, 2, 2, 2, 2, 2, 2, 2, 2, 2, 2, 2, 2, 2, 2, 2, 2, 2, 2, 2, 2, 2, 2, 2, 2, 2, 2]\n[2, 2, 2, 2, 2, 2, 2, 2, 2, 2, 2, 2, 2, 2, 2, 2, 2, 2, 2, 2, 2, 2, 2, 2, 2, 2, 2, 2, 2, 2, 2, 2, 2, 2, 2, 2, 2, 2, 2, 2, 2, 2, 2, 2, 2, 2, 2, 2]\n[2, 2, 2, 2, 2, 2, 2, 2, 2, 2, 2, 2, 2, 2, 2, 2, 2, 2, 2, 2, 2, 2, 2, 2, 2, 2, 2, 2, 2, 2, 2, 2, 2, 2, 2, 2, 2, 2, 2, 2, 2, 2, 2, 2, 2, 2, 2, 2]\n     ManagementLevel_x  ManagementLevel_y\nID                                       \n69                   2                  1\n86                   2                  1\n143                  2                  1\n137                  2                  1\n112                  2                  2\n67                   2                  2\n35                   2                  2\n151                  2                  2\n110                  2                  2\n58                   2                  2\n81                   2                  2\n145                  2                  2\n113                  2                  2\n27                   2                  1\n34                   2                  2\n44                   2                  2\n161                  2                  2\n91                   2                  2\n123                  2                  2\n162                  2                  1\n116                  2                  2\n127                  2                  2\n50                   2                  2\n84                   2                  2\n63                   2                  2\n28                   2                  2\n165                  2                  2\n147                  2                  2\n144                  2                  2\n158                  2                  2\n92                   2                  2\n16                   2                  2\n41                   2                  2\n88                   2                  2\n74                   2                  2\n104                  2                  1\n140                  2                  2\n42                   2                  2\n146                  2                  2\n149                  2                  2\n142                  2                  2\n125                  2                  2\n109                  2                  2\n157                  2                  2\n15                   2                  2\n134                  2                  2\n124                  2                  2\n68                   2                  2\nPCT:  0.6\nF1:  0.4606741573033708\nUtiliti score:  cliques_count\n***********************************\n[-1, -1, -1, -1, -1, -1, -1, -1, -1, -1, -1, -1, -1, -1, -1, -1, -1, -1, -1, -1, -1, -1, -1, -1, -1, -1, -1, -1, -1, -1, -1, -1, -1, -1, -1, -1, -1, -1, -1, -1, -1, -1, -1, -1, -1, -1, -1, -1]\n[2, 2, 2, 2, 2, 2, 2, 2, 2, 2, 2, 2, 2, 2, 2, 2, 2, 2, 2, 2, 2, 2, 2, 2, 2, 2, 2, 2, 2, 2, 2, 2, 2, 2, 2, 2, 2, 2, 2, 2, 2, 2, 2, 2, 2, 2, 2, 2]\n[2, 2, 2, 2, 2, 2, 2, 2, 2, 2, 2, 2, 2, 2, 2, 2, 2, 2, 2, 2, 2, 2, 2, 2, 2, 2, 2, 2, 2, 2, 2, 2, 2, 2, 2, 2, 2, 2, 2, 2, 2, 2, 2, 2, 2, 2, 2, 2]\n[2, 2, 2, 2, 2, 2, 2, 2, 2, 2, 2, 2, 2, 2, 2, 2, 2, 2, 2, 2, 2, 2, 2, 2, 2, 2, 2, 2, 2, 2, 2, 2, 2, 2, 2, 2, 2, 2, 2, 2, 2, 2, 2, 2, 2, 2, 2, 2]\n     ManagementLevel_x  ManagementLevel_y\nID                                       \n104                  2                  1\n47                   2                  1\n148                  2                  1\n154                  2                  2\n109                  2                  2\n15                   2                  2\n124                  2                  2\n125                  2                  2\n134                  2                  2\n63                   2                  2\n42                   2                  2\n60                   2                  2\n58                   2                  2\n94                   2                  2\n84                   2                  2\n127                  2                  2\n118                  2                  2\n64                   2                  2\n91                   2                  2\n83                   2                  2\n66                   2                  2\n123                  2                  2\n126                  2                  2\n44                   2                  2\n102                  2                  2\n143                  2                  1\n108                  2                  2\n45                   2                  2\n144                  2                  2\n137                  2                  1\n27                   2                  1\n77                   2                  2\n14                   2                  2\n82                   2                  2\n3                    2                  2\n33                   2                  2\n113                  2                  2\n142                  2                  2\n54                   2                  2\n110                  2                  2\n80                   2                  2\n18                   2                  2\n55                   2                  2\n150                  2                  2\n135                  2                  2\n65                   2                  2\n69                   2                  1\n34                   2                  2\nPCT:  0.6\nF1:  0.4606741573033708\nUtiliti score:  overtime\n***********************************\n[-1, -1, -1, -1, -1, -1, -1, -1, -1, -1, -1, -1, -1, -1, -1, -1, -1, -1, -1, -1, -1, -1, -1, -1, -1, -1, -1, -1, -1, -1, -1, -1, -1, -1, -1, -1, -1, -1, -1, -1, -1, -1, -1, -1, -1, -1, -1, -1]\n[2, 2, 2, 2, 2, 2, 2, 2, 2, 2, 2, 2, 2, 2, 2, 2, 2, 2, 2, 2, 2, 2, 2, 2, 2, 2, 2, 2, 2, 2, 2, 2, 2, 2, 2, 2, 2, 2, 2, 2, 2, 2, 2, 2, 2, 2, 2, 2]\n[2, 2, 2, 2, 2, 2, 2, 2, 2, 2, 2, 2, 2, 2, 2, 2, 2, 2, 2, 2, 2, 2, 2, 2, 2, 2, 2, 2, 2, 2, 2, 2, 2, 2, 2, 2, 2, 2, 2, 2, 2, 2, 2, 2, 2, 2, 2, 2]\n[2, 2, 2, 2, 2, 2, 2, 2, 2, 2, 2, 2, 2, 2, 2, 2, 2, 2, 2, 2, 2, 2, 2, 2, 2, 2, 2, 2, 2, 2, 2, 2, 2, 2, 2, 2, 2, 2, 2, 2, 2, 2, 2, 2, 2, 2, 2, 2]\n     ManagementLevel_x  ManagementLevel_y\nID                                       \n69                   2                  1\n27                   2                  1\n162                  2                  1\n94                   2                  2\n57                   2                  2\n60                   2                  2\n81                   2                  2\n91                   2                  2\n39                   2                  2\n161                  2                  2\n146                  2                  2\n11                   2                  2\n41                   2                  2\n158                  2                  2\n105                  2                  2\n148                  2                  1\n19                   2                  2\n97                   2                  2\n32                   2                  2\n65                   2                  2\n73                   2                  2\n126                  2                  2\n123                  2                  2\n137                  2                  1\n127                  2                  2\n37                   2                  2\n118                  2                  2\n64                   2                  2\n95                   2                  2\n83                   2                  2\n116                  2                  2\n35                   2                  2\n107                  2                  2\n84                   2                  2\n44                   2                  2\n66                   2                  2\n102                  2                  2\n132                  2                  2\n108                  2                  2\n45                   2                  2\n78                   2                  2\n82                   2                  2\n47                   2                  1\n144                  2                  2\n141                  2                  2\n143                  2                  1\n89                   2                  2\n34                   2                  2\nPCT:  0.6\nF1:  0.4606741573033708\nUtiliti score:  work_at_weekend\n***********************************\n[-1, -1, -1, -1, -1, -1, -1, -1, -1, -1, -1, -1, -1, -1, -1, -1, -1, -1, -1, -1, -1, -1, -1, -1, -1, -1, -1, -1, -1, -1, -1, -1, -1, -1, -1, -1, -1, -1, -1, -1, -1, -1, -1, -1, -1, -1, -1, -1]\n[2, 2, 2, 2, 2, 2, 2, 2, 2, 2, 2, 2, 2, 2, 2, 2, 2, 2, 2, 2, 2, 2, 2, 2, 2, 2, 2, 2, 2, 2, 2, 2, 2, 2, 2, 2, 2, 2, 2, 2, 2, 2, 2, 2, 2, 2, 2, 2]\n[2, 2, 2, 2, 2, 2, 2, 2, 2, 2, 2, 2, 2, 2, 2, 2, 2, 2, 2, 2, 2, 2, 2, 2, 2, 2, 2, 2, 2, 2, 2, 2, 2, 2, 2, 2, 2, 2, 2, 2, 2, 2, 2, 2, 2, 2, 2, 2]\n[2, 2, 2, 2, 2, 2, 2, 2, 2, 2, 2, 2, 2, 2, 2, 2, 2, 2, 2, 2, 2, 2, 2, 2, 2, 2, 2, 2, 2, 2, 2, 2, 2, 2, 2, 2, 2, 2, 2, 2, 2, 2, 2, 2, 2, 2, 2, 2]\n     ManagementLevel_x  ManagementLevel_y\nID                                       \n148                  2                  1\n121                  2                  1\n47                   2                  1\n156                  2                  1\n137                  2                  1\n143                  2                  1\n73                   2                  2\n105                  2                  2\n116                  2                  2\n3                    2                  2\n56                   2                  2\n57                   2                  2\n150                  2                  2\n63                   2                  2\n88                   2                  2\n72                   2                  2\n132                  2                  2\n146                  2                  2\n18                   2                  2\n58                   2                  2\n130                  2                  2\n67                   2                  2\n113                  2                  2\n125                  2                  2\n22                   2                  2\n91                   2                  2\n61                   2                  2\n140                  2                  2\n94                   2                  2\n104                  2                  1\n157                  2                  2\n89                   2                  2\n101                  2                  2\n28                   2                  2\n66                   2                  2\n44                   2                  2\n165                  2                  2\n124                  2                  2\n145                  2                  2\n42                   2                  2\n151                  2                  2\n149                  2                  2\n34                   2                  2\n108                  2                  2\n164                  2                  2\n147                  2                  2\n109                  2                  2\n134                  2                  2\nPCT:  0.6\nF1:  0.4606741573033708\nUtiliti score:  neighborhood_variability_sender\n***********************************\n[-1, -1, -1, -1, -1, -1, -1, -1, -1, -1, -1, -1, -1, -1, -1, -1, -1, -1, -1, -1, -1, -1, -1, -1, -1, -1, -1, -1, -1, -1, -1, -1, -1, -1, -1, -1, -1, -1, -1, -1, -1, -1, -1, -1, -1, -1, -1, -1]\n[2, 2, 2, 2, 2, 2, 2, 2, 2, 2, 2, 2, 2, 2, 2, 2, 2, 2, 2, 2, 2, 2, 2, 2, 2, 2, 2, 2, 2, 2, 2, 2, 2, 2, 2, 2, 2, 2, 2, 2, 2, 2, 2, 2, 2, 2, 2, 2]\n[2, 2, 2, 2, 2, 2, 2, 2, 2, 2, 2, 2, 2, 2, 2, 2, 2, 2, 2, 2, 2, 2, 2, 2, 2, 2, 2, 2, 2, 2, 2, 2, 2, 2, 2, 2, 2, 2, 2, 2, 2, 2, 2, 2, 2, 2, 2, 2]"
     ]
    },
    {
     "name": "stdout",
     "output_type": "stream",
     "text": [
      "\n[2, 2, 2, 2, 2, 2, 2, 2, 2, 2, 2, 2, 2, 2, 2, 2, 2, 2, 2, 2, 2, 2, 2, 2, 2, 2, 2, 2, 2, 2, 2, 2, 2, 2, 2, 2, 2, 2, 2, 2, 2, 2, 2, 2, 2, 2, 2, 2]\n     ManagementLevel_x  ManagementLevel_y\nID                                       \n162                  2                  1\n121                  2                  1\n143                  2                  1\n37                   2                  2\n3                    2                  2\n47                   2                  1\n56                   2                  2\n15                   2                  2\n156                  2                  1\n88                   2                  2\n153                  2                  2\n16                   2                  2\n105                  2                  2\n113                  2                  2\n58                   2                  2\n32                   2                  2\n137                  2                  1\n116                  2                  2\n72                   2                  2\n150                  2                  2\n130                  2                  2\n61                   2                  2\n94                   2                  2\n66                   2                  2\n22                   2                  2\n18                   2                  2\n149                  2                  2\n146                  2                  2\n44                   2                  2\n125                  2                  2\n91                   2                  2\n28                   2                  2\n140                  2                  2\n101                  2                  2\n165                  2                  2\n104                  2                  1\n89                   2                  2\n73                   2                  2\n34                   2                  2\n147                  2                  2\n42                   2                  2\n108                  2                  2\n109                  2                  2\n164                  2                  2\n151                  2                  2\n134                  2                  2\n145                  2                  2\n68                   2                  2\nPCT:  0.6\nF1:  0.4606741573033708\nUtiliti score:  neighborhood_variability_recipient\n***********************************\n[-1, -1, -1, -1, -1, -1, -1, -1, -1, -1, -1, -1, -1, -1, -1, -1, -1, -1, -1, -1, -1, -1, -1, -1, -1, -1, -1, -1, -1, -1, -1, -1, -1, -1, -1, -1, -1, -1, -1, -1, -1, -1, -1, -1, -1, -1, -1, -1]\n[2, 2, 2, 2, 2, 2, 2, 2, 2, 2, 2, 2, 2, 2, 2, 2, 2, 2, 2, 2, 2, 2, 2, 2, 2, 2, 2, 2, 2, 2, 2, 2, 2, 2, 2, 2, 2, 2, 2, 2, 2, 2, 2, 2, 2, 2, 2, 2]\n[2, 2, 2, 2, 2, 2, 2, 2, 2, 2, 2, 2, 2, 2, 2, 2, 2, 2, 2, 2, 2, 2, 2, 2, 2, 2, 2, 2, 2, 2, 2, 2, 2, 2, 2, 2, 2, 2, 2, 2, 2, 2, 2, 2, 2, 2, 2, 2]\n[2, 2, 2, 2, 2, 2, 2, 2, 2, 2, 2, 2, 2, 2, 2, 2, 2, 2, 2, 2, 2, 2, 2, 2, 2, 2, 2, 2, 2, 2, 2, 2, 2, 2, 2, 2, 2, 2, 2, 2, 2, 2, 2, 2, 2, 2, 2, 2]\n     ManagementLevel_x  ManagementLevel_y\nID                                       \n121                  2                  1\n162                  2                  1\n47                   2                  1\n156                  2                  1\n154                  2                  2\n58                   2                  2\n155                  2                  2\n3                    2                  2\n57                   2                  2\n143                  2                  1\n144                  2                  2\n15                   2                  2\n16                   2                  2\n130                  2                  2\n124                  2                  2\n105                  2                  2\n113                  2                  2\n132                  2                  2\n150                  2                  2\n72                   2                  2\n61                   2                  2\n137                  2                  1\n22                   2                  2\n18                   2                  2\n116                  2                  2\n28                   2                  2\n146                  2                  2\n149                  2                  2\n94                   2                  2\n66                   2                  2\n91                   2                  2\n101                  2                  2\n125                  2                  2\n89                   2                  2\n44                   2                  2\n140                  2                  2\n165                  2                  2\n104                  2                  1\n145                  2                  2\n42                   2                  2\n73                   2                  2\n34                   2                  2\n108                  2                  2\n109                  2                  2\n151                  2                  2\n147                  2                  2\n164                  2                  2\n134                  2                  2\nPCT:  0.6\nF1:  0.4606741573033708\nUtiliti score:  neighborhood_variability_all\n***********************************\n"
     ]
    },
    {
     "name": "stderr",
     "output_type": "stream",
     "text": [
      "/Users/mateusz/anaconda3/lib/python3.6/site-packages/sklearn/metrics/classification.py:1439: UndefinedMetricWarning: F-score is ill-defined and being set to 0.0 in labels with no true samples.\n  'recall', 'true', average, warn_for)\n/Users/mateusz/anaconda3/lib/python3.6/site-packages/sklearn/metrics/classification.py:1439: UndefinedMetricWarning: F-score is ill-defined and being set to 0.0 in labels with no true samples.\n  'recall', 'true', average, warn_for)\n/Users/mateusz/anaconda3/lib/python3.6/site-packages/sklearn/metrics/classification.py:1439: UndefinedMetricWarning: F-score is ill-defined and being set to 0.0 in labels with no true samples.\n  'recall', 'true', average, warn_for)\n/Users/mateusz/anaconda3/lib/python3.6/site-packages/sklearn/metrics/classification.py:1439: UndefinedMetricWarning: F-score is ill-defined and being set to 0.0 in labels with no true samples.\n  'recall', 'true', average, warn_for)\n"
     ]
    }
   ],
   "source": [
    "# collective_classification(G, df_features, 0.6, 2, df_positions, 2)"
   ]
  },
  {
   "cell_type": "code",
   "execution_count": 284,
   "metadata": {},
   "outputs": [
    {
     "data": {
      "text/plain": [
       "{80: 1, 10: 1, 50: 2, 40: 2, 90: 2}"
      ]
     },
     "execution_count": 284,
     "metadata": {},
     "output_type": "execute_result"
    }
   ],
   "source": [
    "select_nodes_based_on_utility_score(BETWEENNESS, df, pct, 2)"
   ]
  },
  {
   "cell_type": "code",
   "execution_count": 76,
   "metadata": {},
   "outputs": [],
   "source": [
    "df = pd.DataFrame({ID: [10,20,30,40,50,60,70,80,90,100], BETWEENNESS: [5,6,2,8,9,4,6,7,8,3], POSITION: [1,2,1,2,2,2,2,1,2,1]})\n",
    "df = df.set_index(ID)\n",
    "df_positions = pd.DataFrame({ID: [10,20,30,40,50,60,70,80,90,100], POSITION: [1,2,1,2,2,2,2,1,2,1]})\n",
    "pct = 0.5"
   ]
  },
  {
   "cell_type": "code",
   "execution_count": 52,
   "metadata": {},
   "outputs": [],
   "source": [
    "import networkx as nx"
   ]
  },
  {
   "cell_type": "code",
   "execution_count": 57,
   "metadata": {},
   "outputs": [],
   "source": [
    "nx.set_node_attributes(G, {80: 1, 10: 1, 50: 2, 40: 2, 90: 2}, 'asdf')"
   ]
  },
  {
   "cell_type": "code",
   "execution_count": 226,
   "metadata": {},
   "outputs": [],
   "source": [
    "# pd.DataFrame(G.nodes(data='utility_score'), columns=[ID, 'utility_score'], index=ID).sort_values('utility_score', ascending=False).index"
   ]
  },
  {
   "cell_type": "code",
   "execution_count": 252,
   "metadata": {
    "collapsed": true
   },
   "outputs": [
    {
     "data": {
      "text/html": [
       "<div>\n",
       "<style scoped>\n",
       "    .dataframe tbody tr th:only-of-type {\n",
       "        vertical-align: middle;\n",
       "    }\n",
       "\n",
       "    .dataframe tbody tr th {\n",
       "        vertical-align: top;\n",
       "    }\n",
       "\n",
       "    .dataframe thead th {\n",
       "        text-align: right;\n",
       "    }\n",
       "</style>\n",
       "<table border=\"1\" class=\"dataframe\">\n",
       "  <thead>\n",
       "    <tr style=\"text-align: right;\">\n",
       "      <th></th>\n",
       "      <th>ManagementLevel</th>\n",
       "    </tr>\n",
       "    <tr>\n",
       "      <th>ID</th>\n",
       "      <th></th>\n",
       "    </tr>\n",
       "  </thead>\n",
       "  <tbody>\n",
       "    <tr>\n",
       "      <th>86</th>\n",
       "      <td>1</td>\n",
       "    </tr>\n",
       "    <tr>\n",
       "      <th>7</th>\n",
       "      <td>1</td>\n",
       "    </tr>\n",
       "    <tr>\n",
       "      <th>27</th>\n",
       "      <td>1</td>\n",
       "    </tr>\n",
       "    <tr>\n",
       "      <th>36</th>\n",
       "      <td>1</td>\n",
       "    </tr>\n",
       "    <tr>\n",
       "      <th>69</th>\n",
       "      <td>1</td>\n",
       "    </tr>\n",
       "    <tr>\n",
       "      <th>70</th>\n",
       "      <td>1</td>\n",
       "    </tr>\n",
       "    <tr>\n",
       "      <th>85</th>\n",
       "      <td>1</td>\n",
       "    </tr>\n",
       "    <tr>\n",
       "      <th>104</th>\n",
       "      <td>1</td>\n",
       "    </tr>\n",
       "    <tr>\n",
       "      <th>121</th>\n",
       "      <td>1</td>\n",
       "    </tr>\n",
       "    <tr>\n",
       "      <th>148</th>\n",
       "      <td>1</td>\n",
       "    </tr>\n",
       "    <tr>\n",
       "      <th>156</th>\n",
       "      <td>1</td>\n",
       "    </tr>\n",
       "    <tr>\n",
       "      <th>163</th>\n",
       "      <td>1</td>\n",
       "    </tr>\n",
       "    <tr>\n",
       "      <th>76</th>\n",
       "      <td>2</td>\n",
       "    </tr>\n",
       "    <tr>\n",
       "      <th>90</th>\n",
       "      <td>2</td>\n",
       "    </tr>\n",
       "    <tr>\n",
       "      <th>136</th>\n",
       "      <td>2</td>\n",
       "    </tr>\n",
       "    <tr>\n",
       "      <th>137</th>\n",
       "      <td>2</td>\n",
       "    </tr>\n",
       "    <tr>\n",
       "      <th>143</th>\n",
       "      <td>2</td>\n",
       "    </tr>\n",
       "    <tr>\n",
       "      <th>152</th>\n",
       "      <td>2</td>\n",
       "    </tr>\n",
       "    <tr>\n",
       "      <th>162</th>\n",
       "      <td>2</td>\n",
       "    </tr>\n",
       "    <tr>\n",
       "      <th>47</th>\n",
       "      <td>2</td>\n",
       "    </tr>\n",
       "  </tbody>\n",
       "</table>\n",
       "</div>"
      ],
      "text/plain": [
       "<div>\n",
       "<style scoped>\n",
       "    .dataframe tbody tr th:only-of-type {\n",
       "        vertical-align: middle;\n",
       "    }\n",
       "\n",
       "    .dataframe tbody tr th {\n",
       "        vertical-align: top;\n",
       "    }\n",
       "\n",
       "    .dataframe thead th {\n",
       "        text-align: right;\n",
       "    }\n",
       "</style>\n",
       "<table border=\"1\" class=\"dataframe\">\n",
       "  <thead>\n",
       "    <tr style=\"text-align: right;\">\n",
       "      <th></th>\n",
       "      <th>ManagementLevel</th>\n",
       "    </tr>\n",
       "    <tr>\n",
       "      <th>ID</th>\n",
       "      <th></th>\n",
       "    </tr>\n",
       "  </thead>\n",
       "  <tbody>\n",
       "    <tr>\n",
       "      <th>86</th>\n",
       "      <td>1</td>\n",
       "    </tr>\n",
       "    <tr>\n",
       "      <th>7</th>\n",
       "      <td>1</td>\n",
       "    </tr>\n",
       "    <tr>\n",
       "      <th>27</th>\n",
       "      <td>1</td>\n",
       "    </tr>\n",
       "    <tr>\n",
       "      <th>36</th>\n",
       "      <td>1</td>\n",
       "    </tr>\n",
       "    <tr>\n",
       "      <th>69</th>\n",
       "      <td>1</td>\n",
       "    </tr>\n",
       "    <tr>\n",
       "      <th>70</th>\n",
       "      <td>1</td>\n",
       "    </tr>\n",
       "    <tr>\n",
       "      <th>85</th>\n",
       "      <td>1</td>\n",
       "    </tr>\n",
       "    <tr>\n",
       "      <th>104</th>\n",
       "      <td>1</td>\n",
       "    </tr>\n",
       "    <tr>\n",
       "      <th>121</th>\n",
       "      <td>1</td>\n",
       "    </tr>\n",
       "    <tr>\n",
       "      <th>148</th>\n",
       "      <td>1</td>\n",
       "    </tr>\n",
       "    <tr>\n",
       "      <th>156</th>\n",
       "      <td>1</td>\n",
       "    </tr>\n",
       "    <tr>\n",
       "      <th>163</th>\n",
       "      <td>1</td>\n",
       "    </tr>\n",
       "    <tr>\n",
       "      <th>76</th>\n",
       "      <td>2</td>\n",
       "    </tr>\n",
       "    <tr>\n",
       "      <th>90</th>\n",
       "      <td>2</td>\n",
       "    </tr>\n",
       "    <tr>\n",
       "      <th>136</th>\n",
       "      <td>2</td>\n",
       "    </tr>\n",
       "    <tr>\n",
       "      <th>137</th>\n",
       "      <td>2</td>\n",
       "    </tr>\n",
       "    <tr>\n",
       "      <th>143</th>\n",
       "      <td>2</td>\n",
       "    </tr>\n",
       "    <tr>\n",
       "      <th>152</th>\n",
       "      <td>2</td>\n",
       "    </tr>\n",
       "    <tr>\n",
       "      <th>162</th>\n",
       "      <td>2</td>\n",
       "    </tr>\n",
       "    <tr>\n",
       "      <th>47</th>\n",
       "      <td>2</td>\n",
       "    </tr>\n",
       "  </tbody>\n",
       "</table>\n",
       "</div>"
      ]
     },
     "execution_count": 252,
     "metadata": {},
     "output_type": "execute_result"
    }
   ],
   "source": [
    "df_positions"
   ]
  },
  {
   "cell_type": "code",
   "execution_count": null,
   "metadata": {},
   "outputs": [],
   "source": []
  }
 ],
 "metadata": {
  "kernelspec": {
   "display_name": "Python 2",
   "language": "python",
   "name": "python2"
  },
  "language_info": {
   "codemirror_mode": {
    "name": "ipython",
    "version": 2
   },
   "file_extension": ".py",
   "mimetype": "text/x-python",
   "name": "python",
   "nbconvert_exporter": "python",
   "pygments_lexer": "ipython2",
   "version": "2.7.6"
  }
 },
 "nbformat": 4,
 "nbformat_minor": 0
}
