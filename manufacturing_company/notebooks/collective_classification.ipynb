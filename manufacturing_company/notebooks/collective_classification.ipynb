{
 "cells": [
  {
   "cell_type": "code",
   "execution_count": 1,
   "metadata": {
    "collapsed": true
   },
   "outputs": [
    {
     "name": "stderr",
     "output_type": "stream",
     "text": [
      "/Users/mateusz/anaconda3/lib/python3.7/site-packages/sklearn/externals/six.py:31: DeprecationWarning: The module is deprecated in version 0.21 and will be removed in version 0.23 since we've dropped support for Python 2.7. Please rely on the official version of six (https://pypi.org/project/six/).\n  \"(https://pypi.org/project/six/).\", DeprecationWarning)\n"
     ]
    }
   ],
   "source": [
    "# IMPORTS\n",
    "from manufacturing_company.src.common.const import *\n",
    "from manufacturing_company.src.network.social_network import *\n",
    "from manufacturing_company.src.classification_algorithms.standard_classification import *\n",
    "from manufacturing_company.src.classification_algorithms.collective_classification import *\n",
    "from manufacturing_company.src.logs.collective_classification_logger import CollectiveClassificationLogger\n",
    "\n",
    "import warnings\n",
    "warnings.filterwarnings(action='once')\n"
   ]
  },
  {
   "cell_type": "code",
   "execution_count": 2,
   "metadata": {},
   "outputs": [],
   "source": [
    "# PARAMS\n",
    "pcts = [0.9, 0.8, 0.7, 0.6, 0.5, 0.4, 0.3, 0.2, 0.1]\n",
    "thresholds = [2, 3, 4, 5, 6, 7, 8, 9, 10]\n",
    "jaccard_mins = [0.7, 0.8, 0.9, 0.99]\n",
    "levels = 3\n",
    "minority_labels = [1, 2]\n",
    "\n",
    "positions = pd.read_csv(MC_FILE_POSITIONS, sep=';', comment='#', index_col=ID)\n"
   ]
  },
  {
   "cell_type": "code",
   "execution_count": null,
   "metadata": {
    "collapsed": true
   },
   "outputs": [],
   "source": [
    "# COLLECTIVE CLASSIFICATION\n",
    "\n",
    "logger = CollectiveClassificationLogger('manufacturing_company', levels)\n",
    "\n",
    "for month in range(MONTHS):\n",
    "    features = pd.read_csv(MC_FILE_FEATURES.format(month), sep=';', index_col=ID)\n",
    "    features = assign_management_levels(levels, features, positions)\n",
    "    \n",
    "    emails = pd.read_csv(MC_FILE_MINIMUM_ACTIVITY.format(month), sep=';')\n",
    "    G = create_network(emails, weight=False)\n",
    "    G_undirected = G.to_undirected()\n",
    "    \n",
    "    for pct in pcts:\n",
    "        for threshold in thresholds:\n",
    "            for jaccard_min in jaccard_mins:\n",
    "                collective_classification(logger, month, G_undirected, features.copy(), pct, levels, positions.copy(), threshold, minority_labels, jaccard_min)\n"
   ]
  },
  {
   "cell_type": "code",
   "execution_count": 2,
   "metadata": {},
   "outputs": [
    {
     "name": "stderr",
     "output_type": "stream",
     "text": [
      "The PostScript backend does not support transparency; partially transparent artists will be rendered opaque.\n"
     ]
    },
    {
     "name": "stderr",
     "output_type": "stream",
     "text": [
      "The PostScript backend does not support transparency; partially transparent artists will be rendered opaque.\n"
     ]
    },
    {
     "name": "stderr",
     "output_type": "stream",
     "text": [
      "The PostScript backend does not support transparency; partially transparent artists will be rendered opaque.\n"
     ]
    },
    {
     "name": "stderr",
     "output_type": "stream",
     "text": [
      "The PostScript backend does not support transparency; partially transparent artists will be rendered opaque.\n"
     ]
    }
   ],
   "source": [
    "from manufacturing_company.src.visualization.plot_standard_classification import PlotStandardClassification\n",
    "from sklearn.tree import DecisionTreeClassifier\n",
    "path = 'enron/logs/standard_classification/2019-06-07_02:05:11_DecisionTreeClassifier_2_levels'\n",
    "plot = PlotStandardClassification(path, DecisionTreeClassifier, 2)\n",
    "plot.plot()\n"
   ]
  },
  {
   "cell_type": "code",
   "execution_count": null,
   "metadata": {},
   "outputs": [],
   "source": [
    "from manufacturing_company.src.visualization.plot_collective_classification import PlotCollectiveClassification\n",
    "path = 'enron/logs/collective_classification/2019-06-07_23:10:49_CollectiveClassification_2_levels'\n",
    "plot = PlotCollectiveClassification(path, 2)\n",
    "plot.plot()\n"
   ]
  }
 ],
 "metadata": {
  "kernelspec": {
   "display_name": "Python 2",
   "language": "python",
   "name": "python2"
  },
  "language_info": {
   "codemirror_mode": {
    "name": "ipython",
    "version": 2
   },
   "file_extension": ".py",
   "mimetype": "text/x-python",
   "name": "python",
   "nbconvert_exporter": "python",
   "pygments_lexer": "ipython2",
   "version": "2.7.6"
  }
 },
 "nbformat": 4,
 "nbformat_minor": 0
}
