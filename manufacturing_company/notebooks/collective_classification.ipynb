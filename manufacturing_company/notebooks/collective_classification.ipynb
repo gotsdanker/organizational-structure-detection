{
 "cells": [
  {
   "cell_type": "code",
   "execution_count": 1,
   "metadata": {
    "collapsed": true
   },
   "outputs": [
    {
     "name": "stderr",
     "output_type": "stream",
     "text": [
      "/Users/mateusz/anaconda3/lib/python3.7/site-packages/sklearn/externals/six.py:31: DeprecationWarning: The module is deprecated in version 0.21 and will be removed in version 0.23 since we've dropped support for Python 2.7. Please rely on the official version of six (https://pypi.org/project/six/).\n  \"(https://pypi.org/project/six/).\", DeprecationWarning)\n"
     ]
    }
   ],
   "source": [
    "# IMPORTS\n",
    "import warnings\n",
    "warnings.filterwarnings(action='ignore')\n",
    "\n",
    "from manufacturing_company.src.common.const import *\n",
    "from manufacturing_company.src.network.social_network import *\n",
    "\n",
    "from manufacturing_company.src.classification_algorithms.standard_classification import *\n",
    "from manufacturing_company.src.classification_algorithms.collective_classification import *\n",
    "# from manufacturing_company.src.classification_algorithms.NodeInfo import NodeInfo\n",
    "# from manufacturing_company.src.classification_algorithms.CollectiveClassificationResult import CollectiveClassificationResult\n",
    "from manufacturing_company.src.logs.collective_classification_logger import CollectiveClassificationLogger\n",
    "# from sklearn.metrics import jaccard_similarity_score, jaccard_score, f1_score"
   ]
  },
  {
   "cell_type": "code",
   "execution_count": 2,
   "metadata": {},
   "outputs": [],
   "source": [
    "# CONST\n",
    "pcts = [0.9, 0.8, 0.7, 0.6, 0.5, 0.4, 0.3, 0.2, 0.1]\n",
    "thresholds = [2, 3, 4, 5, 6, 7, 8, 9, 10]\n",
    "jaccard_mins = [0.7, 0.8, 0.9, 0.99]\n",
    "levels = 3\n",
    "minority_labels = [1, 2]\n",
    "\n",
    "df_positions = pd.read_csv('manufacturing_company/data/raw/positions.csv', sep=';', comment='#', index_col=ID)"
   ]
  },
  {
   "cell_type": "code",
   "execution_count": 3,
   "metadata": {
    "collapsed": true
   },
   "outputs": [],
   "source": [
    "# COLLECTIVE CLASSIFICATION\n",
    "\n",
    "logger = CollectiveClassificationLogger('manufacturing_company', levels)\n",
    "\n",
    "for month in range(1, SIZE + 1):\n",
    "    df_features = pd.read_csv('manufacturing_company/data/intermediate/05_features/' + str(month) + '_months_features.csv', sep=';', index_col=ID)\n",
    "    df_features = assign_management_levels(levels, df_features, df_positions)\n",
    "    \n",
    "    df_communication = pd.read_csv('manufacturing_company/data/intermediate/03_minimum_activity/' + str(month) + '_months_communication.csv', sep=';')\n",
    "    G = create_network(df_communication, weight=False)\n",
    "    G_undirected = G.to_undirected()\n",
    "    \n",
    "    for pct in pcts:\n",
    "        for threshold in thresholds:\n",
    "            for jaccard_min in jaccard_mins:\n",
    "                collective_classification(logger, month, G_undirected, df_features.copy(), pct, levels, df_positions.copy(), threshold, minority_labels, jaccard_min)\n"
   ]
  },
  {
   "cell_type": "code",
   "execution_count": null,
   "metadata": {
    "collapsed": true
   },
   "outputs": [],
   "source": [
    "collective_classification(logger, 1, G_undirected, df_features.copy(), pct=0.6, levels=3, df_positions=df_positions.copy(), threshold=4, minority_labels=[1,2], jaccard_min=0.8)"
   ]
  },
  {
   "cell_type": "code",
   "execution_count": 5,
   "metadata": {},
   "outputs": [
    {
     "name": "stdout",
     "output_type": "stream",
     "text": [
      "<class 'pandas.core.frame.DataFrame'>\nInt64Index: 125 entries, 17 to 34\nData columns (total 17 columns):\nin_degree                             125 non-null float64\nout_degree                            125 non-null float64\nbetweenness                           125 non-null float64\ncloseness                             125 non-null float64\neigenvector                           125 non-null float64\nclustering_coeff                      125 non-null float64\npagerank                              125 non-null float64\nhubs                                  125 non-null float64\nauthorities                           125 non-null float64\nmax_clique                            125 non-null int64\ncliques_count                         125 non-null int64\novertime                              125 non-null int64\nwork_at_weekend                       125 non-null int64\nneighborhood_variability_sender       125 non-null float64\nneighborhood_variability_recipient    125 non-null float64\nneighborhood_variability_all          125 non-null float64\nManagementLevel                       125 non-null int64\ndtypes: float64(12), int64(5)\nmemory usage: 17.6 KB\n"
     ]
    }
   ],
   "source": [
    "df_features.info()"
   ]
  },
  {
   "cell_type": "code",
   "execution_count": 8,
   "metadata": {},
   "outputs": [],
   "source": [
    "df = pd.read_csv('enron/logs/standard_classification/2019-06-07_02:05:11_DecisionTreeClassifier_2_levels/log_months_1.csv', sep=';')"
   ]
  },
  {
   "cell_type": "code",
   "execution_count": 7,
   "metadata": {},
   "outputs": [
    {
     "data": {
      "text/plain": [
       "{'f1_score': [0.7799,\n  0.7556,\n  0.724,\n  0.7141,\n  0.6918,\n  0.7168,\n  0.6113,\n  0.5963,\n  0.5713,\n  0.4507],\n 'pct': [1.0, 0.9, 0.8, 0.7, 0.6, 0.5, 0.4, 0.3, 0.2, 0.1]}"
      ]
     },
     "execution_count": 7,
     "metadata": {},
     "output_type": "execute_result"
    }
   ],
   "source": [
    "df[['f1_score', 'pct']].to_dict('list')"
   ]
  },
  {
   "cell_type": "code",
   "execution_count": 2,
   "metadata": {},
   "outputs": [
    {
     "name": "stderr",
     "output_type": "stream",
     "text": [
      "The PostScript backend does not support transparency; partially transparent artists will be rendered opaque.\n"
     ]
    },
    {
     "name": "stderr",
     "output_type": "stream",
     "text": [
      "The PostScript backend does not support transparency; partially transparent artists will be rendered opaque.\n"
     ]
    },
    {
     "name": "stderr",
     "output_type": "stream",
     "text": [
      "The PostScript backend does not support transparency; partially transparent artists will be rendered opaque.\n"
     ]
    },
    {
     "name": "stderr",
     "output_type": "stream",
     "text": [
      "The PostScript backend does not support transparency; partially transparent artists will be rendered opaque.\n"
     ]
    }
   ],
   "source": [
    "from manufacturing_company.src.visualization.plot_standard_classification import PlotStandardClassification\n",
    "from sklearn.tree import DecisionTreeClassifier\n",
    "path = 'enron/logs/standard_classification/2019-06-07_02:05:11_DecisionTreeClassifier_2_levels'\n",
    "plot = PlotStandardClassification(path, DecisionTreeClassifier, 2)\n",
    "plot.plot()"
   ]
  },
  {
   "cell_type": "code",
   "execution_count": 3,
   "metadata": {},
   "outputs": [
    {
     "data": {
      "text/plain": [
       "{0: 0.7799,\n 1: 0.7556,\n 2: 0.724,\n 3: 0.7141,\n 4: 0.6918,\n 5: 0.7168,\n 6: 0.6113,\n 7: 0.5963,\n 8: 0.5713,\n 9: 0.4507}"
      ]
     },
     "execution_count": 3,
     "metadata": {},
     "output_type": "execute_result"
    }
   ],
   "source": [
    "df = pd.read_csv(path + '/log_months_' + str(1) + '.csv', sep=';')\n",
    "f1_pct_dict = df[['f1_score', 'pct']].to_dict()\n",
    "f1_pct_dict['f1_score']"
   ]
  },
  {
   "cell_type": "code",
   "execution_count": 5,
   "metadata": {},
   "outputs": [
    {
     "data": {
      "text/plain": [
       "'[0.42, 0.42, 0.42, 0.42, 0.42, 0.42, 0.42, 0.42, 0.42, 0.42]'"
      ]
     },
     "execution_count": 5,
     "metadata": {},
     "output_type": "execute_result"
    }
   ],
   "source": [
    "random_values = [0.42]*10\n",
    "random_values\n",
    "str(random_values)"
   ]
  },
  {
   "cell_type": "code",
   "execution_count": null,
   "metadata": {},
   "outputs": [],
   "source": []
  }
 ],
 "metadata": {
  "kernelspec": {
   "display_name": "Python 2",
   "language": "python",
   "name": "python2"
  },
  "language_info": {
   "codemirror_mode": {
    "name": "ipython",
    "version": 2
   },
   "file_extension": ".py",
   "mimetype": "text/x-python",
   "name": "python",
   "nbconvert_exporter": "python",
   "pygments_lexer": "ipython2",
   "version": "2.7.6"
  }
 },
 "nbformat": 4,
 "nbformat_minor": 0
}
