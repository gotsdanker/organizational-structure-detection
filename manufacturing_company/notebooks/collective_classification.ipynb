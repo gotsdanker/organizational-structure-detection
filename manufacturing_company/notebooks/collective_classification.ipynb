{
 "cells": [
  {
   "cell_type": "code",
   "execution_count": 1,
   "metadata": {
    "collapsed": true
   },
   "outputs": [
    {
     "name": "stderr",
     "output_type": "stream",
     "text": [
      "/Users/mateusz/anaconda3/lib/python3.6/site-packages/sklearn/externals/six.py:31: DeprecationWarning: The module is deprecated in version 0.21 and will be removed in version 0.23 since we've dropped support for Python 2.7. Please rely on the official version of six (https://pypi.org/project/six/).\n  \"(https://pypi.org/project/six/).\", DeprecationWarning)\n"
     ]
    }
   ],
   "source": [
    "# IMPORTS\n",
    "import warnings\n",
    "warnings.filterwarnings(action='ignore')\n",
    "\n",
    "from manufacturing_company.src.common.const import *\n",
    "from manufacturing_company.src.network.social_network import *\n",
    "\n",
    "from manufacturing_company.src.classification_algorithms.standard_classification import *\n",
    "from manufacturing_company.src.classification_algorithms.collective_classification import *\n",
    "# from manufacturing_company.src.classification_algorithms.NodeInfo import NodeInfo\n",
    "# from manufacturing_company.src.classification_algorithms.CollectiveClassificationResult import CollectiveClassificationResult\n",
    "from manufacturing_company.src.logs.collective_classification_logger import CollectiveClassificationLogger\n",
    "# from sklearn.metrics import jaccard_similarity_score, jaccard_score, f1_score"
   ]
  },
  {
   "cell_type": "code",
   "execution_count": 22,
   "metadata": {},
   "outputs": [],
   "source": [
    "# CONST\n",
    "pcts = [0.9, 0.8, 0.7, 0.6, 0.5, 0.4, 0.3, 0.2, 0.1]\n",
    "thresholds = [2, 3, 4, 5, 6, 7, 8, 9, 10]\n",
    "jaccard_mins = [0.7, 0.8, 0.9, 0.99]\n",
    "levels = 3\n",
    "minority_labels = [1, 2]\n",
    "\n",
    "df_positions = pd.read_csv('manufacturing_company/data/raw/positions.csv', sep=';', comment='#', index_col=ID)"
   ]
  },
  {
   "cell_type": "code",
   "execution_count": 23,
   "metadata": {
    "collapsed": true
   },
   "outputs": [],
   "source": [
    "# COLLECTIVE CLASSIFICATION\n",
    "\n",
    "logger = CollectiveClassificationLogger(levels)\n",
    "\n",
    "for month in range(1, SIZE + 1):\n",
    "    df_features = pd.read_csv('manufacturing_company/data/intermediate/05_features/' + str(month) + '_months_features.csv', sep=';', index_col=ID)\n",
    "    \n",
    "    df_communication = pd.read_csv('manufacturing_company/data/intermediate/03_minimum_activity/' + str(month) + '_months_communication.csv', sep=';')\n",
    "    G = create_network(df_communication, weight=False)\n",
    "    G_undirected = G.to_undirected()\n",
    "    \n",
    "    for pct in pcts:\n",
    "        for threshold in thresholds:\n",
    "            for jaccard_min in jaccard_mins:\n",
    "                collective_classification(logger, month, G_undirected, df_features.copy(), pct, levels, df_positions.copy(), threshold, minority_labels, jaccard_min)\n"
   ]
  },
  {
   "cell_type": "code",
   "execution_count": null,
   "metadata": {
    "collapsed": true
   },
   "outputs": [],
   "source": [
    "collective_classification(logger, 1, G_undirected, df_features.copy(), pct=0.6, levels=3, df_positions=df_positions.copy(), threshold=4, minority_labels=[1,2], jaccard_min=0.8)"
   ]
  },
  {
   "cell_type": "code",
   "execution_count": null,
   "metadata": {},
   "outputs": [],
   "source": []
  }
 ],
 "metadata": {
  "kernelspec": {
   "display_name": "Python 2",
   "language": "python",
   "name": "python2"
  },
  "language_info": {
   "codemirror_mode": {
    "name": "ipython",
    "version": 2
   },
   "file_extension": ".py",
   "mimetype": "text/x-python",
   "name": "python",
   "nbconvert_exporter": "python",
   "pygments_lexer": "ipython2",
   "version": "2.7.6"
  }
 },
 "nbformat": 4,
 "nbformat_minor": 0
}
