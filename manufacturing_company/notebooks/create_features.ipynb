{
 "cells": [
  {
   "cell_type": "code",
   "execution_count": 1,
   "metadata": {
    "collapsed": true
   },
   "outputs": [],
   "source": [
    "# IMPORTS\n",
    "from manufacturing_company.src.common.const import *\n",
    "from manufacturing_company.src.features.employee_activity import *\n",
    "from manufacturing_company.src.features.neighborhood_variability import *\n",
    "import pandas as pd"
   ]
  },
  {
   "cell_type": "code",
   "execution_count": 24,
   "metadata": {},
   "outputs": [],
   "source": [
    "# CALCULATE OVERTIME AND WORK AT WEEKEND\n",
    "for i in range(1, SIZE + 1):\n",
    "    df = pd.read_csv('manufacturing_company/data/intermediate/03_minimum_activity/' + str(i) + '_months_communication.csv', sep=';', parse_dates=[EVENT_DATE])\n",
    "    df_overtime = calculate_overtime(df, from_hour=17, to_hour=5)\n",
    "    df_weekend = calculate_work_at_weekend(df)\n",
    "    df_merged = pd.merge(df_overtime, df_weekend, on=SENDER)\n",
    "    \n",
    "    df_network = pd.read_csv('manufacturing_company/data/intermediate/04_networks/' + str(i) + '_months_network.csv', sep=';')\n",
    "    df_merged = pd.merge(df_network, df_merged, left_on=ID, right_on=SENDER)\n",
    "    \n",
    "    sender, recipient, sender_recipient = calculate_neighborhood_variability(df, df_merged[ID])\n",
    "    \n",
    "    sender = pd.DataFrame.from_dict(sender, orient='index', columns=[NEIGHBORHOOD_VARIABILITY_SENDER])\n",
    "    sender.index.name = ID\n",
    "    recipient = pd.DataFrame.from_dict(recipient, orient='index', columns=[NEIGHBORHOOD_VARIABILITY_RECIPIENT])\n",
    "    recipient.index.name = ID\n",
    "    sender_recipient = pd.DataFrame.from_dict(sender_recipient, orient='index', columns=[NEIGHBORHOOD_VARIABILITY_ALL])\n",
    "    sender_recipient.index.name = ID\n",
    "    \n",
    "    df_merged = pd.merge(df_merged, sender, on=ID)\n",
    "    df_merged = pd.merge(df_merged, recipient, on=ID)\n",
    "    df_merged = pd.merge(df_merged, sender_recipient, on=ID)\n",
    "    \n",
    "    df_merged.to_csv('manufacturing_company/data/intermediate/'\n",
    "                     '05_features/' + str(i) + '_months_features.csv', sep=';', index=False)\n"
   ]
  },
  {
   "cell_type": "code",
   "execution_count": null,
   "metadata": {},
   "outputs": [],
   "source": [
    ""
   ]
  }
 ],
 "metadata": {
  "kernelspec": {
   "display_name": "Python 2",
   "language": "python",
   "name": "python2"
  },
  "language_info": {
   "codemirror_mode": {
    "name": "ipython",
    "version": 2
   },
   "file_extension": ".py",
   "mimetype": "text/x-python",
   "name": "python",
   "nbconvert_exporter": "python",
   "pygments_lexer": "ipython2",
   "version": "2.7.6"
  }
 },
 "nbformat": 4,
 "nbformat_minor": 0
}
