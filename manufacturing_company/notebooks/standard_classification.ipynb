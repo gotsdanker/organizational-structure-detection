{
 "cells": [
  {
   "cell_type": "code",
   "execution_count": 1,
   "metadata": {
    "collapsed": true
   },
   "outputs": [
    {
     "name": "stderr",
     "output_type": "stream",
     "text": [
      "/Users/mateusz/anaconda3/lib/python3.6/site-packages/sklearn/externals/six.py:31: DeprecationWarning: The module is deprecated in version 0.21 and will be removed in version 0.23 since we've dropped support for Python 2.7. Please rely on the official version of six (https://pypi.org/project/six/).\n  \"(https://pypi.org/project/six/).\", DeprecationWarning)\n"
     ]
    },
    {
     "name": "stderr",
     "output_type": "stream",
     "text": [
      "/Users/mateusz/anaconda3/lib/python3.6/site-packages/sklearn/externals/joblib/__init__.py:15: DeprecationWarning: sklearn.externals.joblib is deprecated in 0.21 and will be removed in 0.23. Please import this functionality directly from joblib, which can be installed with: pip install joblib. If this warning is raised when loading pickled models, you may need to re-serialize those models with scikit-learn 0.21+.\n  warnings.warn(msg, category=DeprecationWarning)\n"
     ]
    }
   ],
   "source": [
    "# IMPORTS\n",
    "from manufacturing_company.src.common.const import *\n",
    "from manufacturing_company.src.classification_algorithms.standard_classification import *\n",
    "from manufacturing_company.src.classification_algorithms.ModelInfo import ModelInfo\n",
    "from manufacturing_company.src.logs.file_logger import *\n",
    "import numpy as np\n",
    "import pandas as pd\n",
    "import operator\n",
    "from sklearn.tree import DecisionTreeClassifier\n",
    "from sklearn.ensemble import RandomForestClassifier"
   ]
  },
  {
   "cell_type": "code",
   "execution_count": 7,
   "metadata": {
    "collapsed": true
   },
   "outputs": [
    {
     "name": "stdout",
     "output_type": "stream",
     "text": [
      "Pct:  1.0\nUsed features:  ['in_degree', 'out_degree', 'betweenness', 'closeness', 'eigenvector', 'clustering_coeff', 'pagerank', 'hubs', 'authorities', 'max_clique', 'cliques_count', 'overtime', 'work_at_weekend', 'neighborhood_variability_sender', 'neighborhood_variability_recipient', 'neighborhood_variability_all']\n"
     ]
    },
    {
     "name": "stderr",
     "output_type": "stream",
     "text": [
      "/Users/mateusz/anaconda3/lib/python3.6/site-packages/sklearn/model_selection/_search.py:813: DeprecationWarning: The default of the `iid` parameter will change from True to False in version 0.22 and will be removed in 0.24. This will change numeric results when test-set sizes are unequal.\n  DeprecationWarning)\n/Users/mateusz/anaconda3/lib/python3.6/site-packages/sklearn/model_selection/_search.py:813: DeprecationWarning: The default of the `iid` parameter will change from True to False in version 0.22 and will be removed in 0.24. This will change numeric results when test-set sizes are unequal.\n  DeprecationWarning)\n/Users/mateusz/anaconda3/lib/python3.6/site-packages/imblearn/pipeline.py:190: DeprecationWarning: The 'cachedir' attribute has been deprecated in version 0.12 and will be removed in version 0.14.\nUse os.path.join(memory.location, 'joblib') attribute instead.\n  if memory.cachedir is None:\n/Users/mateusz/anaconda3/lib/python3.6/site-packages/sklearn/model_selection/_search.py:813: DeprecationWarning: The default of the `iid` parameter will change from True to False in version 0.22 and will be removed in 0.24. This will change numeric results when test-set sizes are unequal.\n  DeprecationWarning)\n/Users/mateusz/anaconda3/lib/python3.6/site-packages/imblearn/pipeline.py:190: DeprecationWarning: The 'cachedir' attribute has been deprecated in version 0.12 and will be removed in version 0.14.\nUse os.path.join(memory.location, 'joblib') attribute instead.\n  if memory.cachedir is None:\n"
     ]
    },
    {
     "name": "stdout",
     "output_type": "stream",
     "text": [
      "Best score: 0.4683192103926381\nSorted:  [('eigenvector', 0.3766399137478159), ('authorities', 0.27875591818042417), ('clustering_coeff', 0.26575619731284394), ('neighborhood_variability_all', 0.07284428668004955), ('neighborhood_variability_sender', 0.00600368407886657), ('in_degree', 0.0), ('out_degree', 0.0), ('betweenness', 0.0), ('closeness', 0.0), ('pagerank', 0.0), ('hubs', 0.0), ('max_clique', 0.0), ('cliques_count', 0.0), ('overtime', 0.0), ('work_at_weekend', 0.0), ('neighborhood_variability_recipient', 0.0)]\nDiff:  2\nReduced features:  ['in_degree', 'out_degree', 'betweenness', 'closeness', 'clustering_coeff', 'pagerank', 'hubs', 'max_clique', 'cliques_count', 'overtime', 'work_at_weekend', 'neighborhood_variability_sender', 'neighborhood_variability_recipient', 'neighborhood_variability_all']\nPct:  1.0\nUsed features:  ['in_degree', 'out_degree', 'betweenness', 'closeness', 'eigenvector', 'clustering_coeff', 'pagerank', 'hubs', 'authorities', 'max_clique', 'cliques_count', 'overtime', 'work_at_weekend', 'neighborhood_variability_sender', 'neighborhood_variability_recipient', 'neighborhood_variability_all']\nBest score: 0.4897650674675783\nSorted:  [('pagerank', 0.26897754194740897), ('neighborhood_variability_sender', 0.24022568070357367), ('eigenvector', 0.157787943863088), ('cliques_count', 0.12967668176218858), ('clustering_coeff', 0.10503934781667885), ('neighborhood_variability_all', 0.07160122353574767), ('max_clique', 0.02669158037131423), ('in_degree', 0.0), ('out_degree', 0.0), ('betweenness', 0.0), ('closeness', 0.0), ('hubs', 0.0), ('authorities', 0.0), ('overtime', 0.0), ('work_at_weekend', 0.0), ('neighborhood_variability_recipient', 0.0)]\nDiff:  2\nReduced features:  ['in_degree', 'out_degree', 'betweenness', 'closeness', 'eigenvector', 'clustering_coeff', 'hubs', 'authorities', 'max_clique', 'cliques_count', 'overtime', 'work_at_weekend', 'neighborhood_variability_recipient', 'neighborhood_variability_all']\nPct:  1.0\nUsed features:  ['in_degree', 'out_degree', 'betweenness', 'closeness', 'eigenvector', 'clustering_coeff', 'pagerank', 'hubs', 'authorities', 'max_clique', 'cliques_count', 'overtime', 'work_at_weekend', 'neighborhood_variability_sender', 'neighborhood_variability_recipient', 'neighborhood_variability_all']\nBest score: 0.4655045737983616\nSorted:  [('clustering_coeff', 0.425523985518153), ('neighborhood_variability_sender', 0.3094709815058289), ('authorities', 0.265005032976018), ('in_degree', 0.0), ('out_degree', 0.0), ('betweenness', 0.0), ('closeness', 0.0), ('eigenvector', 0.0), ('pagerank', 0.0), ('hubs', 0.0), ('max_clique', 0.0), ('cliques_count', 0.0), ('overtime', 0.0), ('work_at_weekend', 0.0), ('neighborhood_variability_recipient', 0.0), ('neighborhood_variability_all', 0.0)]\nDiff:  2\nReduced features:  ['in_degree', 'out_degree', 'betweenness', 'closeness', 'eigenvector', 'pagerank', 'hubs', 'authorities', 'max_clique', 'cliques_count', 'overtime', 'work_at_weekend', 'neighborhood_variability_recipient', 'neighborhood_variability_all']\nPct:  1.0\nUsed features:  ['in_degree', 'out_degree', 'betweenness', 'closeness', 'eigenvector', 'clustering_coeff', 'pagerank', 'hubs', 'authorities', 'max_clique', 'cliques_count', 'overtime', 'work_at_weekend', 'neighborhood_variability_sender', 'neighborhood_variability_recipient', 'neighborhood_variability_all']\n"
     ]
    },
    {
     "name": "stderr",
     "output_type": "stream",
     "text": [
      "/Users/mateusz/anaconda3/lib/python3.6/site-packages/sklearn/model_selection/_search.py:813: DeprecationWarning: The default of the `iid` parameter will change from True to False in version 0.22 and will be removed in 0.24. This will change numeric results when test-set sizes are unequal.\n  DeprecationWarning)\n/Users/mateusz/anaconda3/lib/python3.6/site-packages/imblearn/pipeline.py:190: DeprecationWarning: The 'cachedir' attribute has been deprecated in version 0.12 and will be removed in version 0.14.\nUse os.path.join(memory.location, 'joblib') attribute instead.\n  if memory.cachedir is None:\n/Users/mateusz/anaconda3/lib/python3.6/site-packages/sklearn/model_selection/_search.py:813: DeprecationWarning: The default of the `iid` parameter will change from True to False in version 0.22 and will be removed in 0.24. This will change numeric results when test-set sizes are unequal.\n  DeprecationWarning)\n/Users/mateusz/anaconda3/lib/python3.6/site-packages/imblearn/pipeline.py:190: DeprecationWarning: The 'cachedir' attribute has been deprecated in version 0.12 and will be removed in version 0.14.\nUse os.path.join(memory.location, 'joblib') attribute instead.\n  if memory.cachedir is None:\n"
     ]
    },
    {
     "name": "stdout",
     "output_type": "stream",
     "text": [
      "Best score: 0.4315224317441613\nSorted:  [('clustering_coeff', 0.42595898353248457), ('authorities', 0.30827186494883746), ('eigenvector', 0.14944560048048275), ('neighborhood_variability_all', 0.08379621794161653), ('neighborhood_variability_sender', 0.03252733309657864), ('in_degree', 0.0), ('out_degree', 0.0), ('betweenness', 0.0), ('closeness', 0.0), ('pagerank', 0.0), ('hubs', 0.0), ('max_clique', 0.0), ('cliques_count', 0.0), ('overtime', 0.0), ('work_at_weekend', 0.0), ('neighborhood_variability_recipient', 0.0)]\nDiff:  2\nReduced features:  ['in_degree', 'out_degree', 'betweenness', 'closeness', 'eigenvector', 'pagerank', 'hubs', 'max_clique', 'cliques_count', 'overtime', 'work_at_weekend', 'neighborhood_variability_sender', 'neighborhood_variability_recipient', 'neighborhood_variability_all']\nPct:  1.0\nUsed features:  ['in_degree', 'out_degree', 'betweenness', 'closeness', 'eigenvector', 'clustering_coeff', 'pagerank', 'hubs', 'authorities', 'max_clique', 'cliques_count', 'overtime', 'work_at_weekend', 'neighborhood_variability_sender', 'neighborhood_variability_recipient', 'neighborhood_variability_all']\nBest score: 0.49280508712332377\nSorted:  [('clustering_coeff', 0.4373969397381769), ('authorities', 0.24740411111863747), ('eigenvector', 0.19401839438526777), ('neighborhood_variability_all', 0.08007058244088909), ('neighborhood_variability_sender', 0.04110997231702881), ('in_degree', 0.0), ('out_degree', 0.0), ('betweenness', 0.0), ('closeness', 0.0), ('pagerank', 0.0), ('hubs', 0.0), ('max_clique', 0.0), ('cliques_count', 0.0), ('overtime', 0.0), ('work_at_weekend', 0.0), ('neighborhood_variability_recipient', 0.0)]\nDiff:  2\nReduced features:  ['in_degree', 'out_degree', 'betweenness', 'closeness', 'eigenvector', 'pagerank', 'hubs', 'max_clique', 'cliques_count', 'overtime', 'work_at_weekend', 'neighborhood_variability_sender', 'neighborhood_variability_recipient', 'neighborhood_variability_all']\n"
     ]
    }
   ],
   "source": [
    "# DECISION TREE\n",
    "df_positions = pd.read_csv('manufacturing_company/data/raw/positions.csv', \n",
    "                           sep=';', comment='#')\n",
    "df_positions = df_positions.set_index(ID)\n",
    "\n",
    "all_months_score = dict()\n",
    "\n",
    "for i in range(1, SIZE + 1):\n",
    "    df_features = pd.read_csv('manufacturing_company/data/intermediate/05_features/' \n",
    "                              + str(i) + '_months_features.csv', sep=';')\n",
    "    df_features = assign_management_levels(2, df_features, df_positions)\n",
    "    \n",
    "    models = classification(df_features, DecisionTreeClassifier, \n",
    "                   decision_tree_params, 'f1_macro')\n",
    "    \n",
    "    all_months_score[i] = models\n",
    "    \n",
    "save(all_months_score, DecisionTreeClassifier, 2)\n"
   ]
  },
  {
   "cell_type": "code",
   "execution_count": 6,
   "metadata": {},
   "outputs": [],
   "source": [
    "def assign_management_levels(levels, df_employees, df_positions):\n",
    "    if levels == 2:\n",
    "        df_employees[POSITION] = 2\n",
    "        management_level = df_positions.index\n",
    "        df_employees.loc[df_features[ID].isin(management_level), POSITION] = 1\n",
    "    elif levels == 3:\n",
    "        df_employees[POSITION] = 3\n",
    "        \n",
    "        first_management_level = df_positions[df_positions[POSITION] == 1].index\n",
    "        second_management_level = df_positions[df_positions[POSITION] == 2].index\n",
    "        \n",
    "        df_employees.loc[df_features[ID].isin(first_management_level), POSITION] = 1\n",
    "        df_employees.loc[df_features[ID].isin(second_management_level), POSITION] = 2\n",
    "    else:\n",
    "        raise Exception(\"Unsupported number of levels\")\n",
    "    \n",
    "    return df_employees\n"
   ]
  },
  {
   "cell_type": "code",
   "execution_count": 5,
   "metadata": {},
   "outputs": [],
   "source": [
    "def classification(df, algorithm, parameters, cv_scorer):\n",
    "    models = []\n",
    "    pcts = [1.0, 0.9, 0.8, 0.7, 0.6, 0.5, 0.4, 0.3, 0.2, 0.1]\n",
    "    \n",
    "    df = df.set_index(ID)\n",
    "    \n",
    "    X = df.loc[:, df.columns != POSITION]\n",
    "    y = df[POSITION]\n",
    "\n",
    "    feature_names = X.columns.tolist()\n",
    "    \n",
    "    for pct in pcts:\n",
    "        print('Pct: ', pct)\n",
    "        \n",
    "        print('Used features: ', feature_names)\n",
    "        \n",
    "        model = train(algorithm, X[feature_names], y, cv_scorer, \n",
    "                      parameters(len(feature_names)))\n",
    "        \n",
    "        print('Best score: ' + str(model.best_score_))\n",
    "        \n",
    "        modelInfo = ModelInfo(model, parameters, cv_scorer, feature_names, pct)\n",
    "        models.append(modelInfo)\n",
    "        \n",
    "        sorted_features = sorted(\n",
    "            dict(zip(feature_names, model.best_estimator_.steps[1][1].\n",
    "            feature_importances_)).items(), key=operator.itemgetter(1), reverse=True)\n",
    "        \n",
    "        print('Sorted: ', sorted_features)\n",
    "        \n",
    "        diff = len(feature_names) - round(len(X.columns) * (pct - 0.1))\n",
    "        \n",
    "        print('Diff: ', diff)\n",
    "        \n",
    "        for i in range(0, diff):\n",
    "            feature_to_delete = sorted_features[i][0]\n",
    "            feature_names.remove(feature_to_delete)\n",
    "            \n",
    "        print('Reduced features: ', feature_names)\n",
    "        \n",
    "        return models\n"
   ]
  },
  {
   "cell_type": "code",
   "execution_count": 3,
   "metadata": {},
   "outputs": [],
   "source": [
    "def decision_tree_params(feature_nr):\n",
    "    # max_depth = np.arange(100) + 1\n",
    "    # max_features = list(range(1, feature_nr))\n",
    "    max_depth = [3]\n",
    "    max_features = [3]\n",
    "    return {'model__max_depth': max_depth, 'model__max_features': max_features}\n"
   ]
  },
  {
   "cell_type": "code",
   "execution_count": 7,
   "metadata": {},
   "outputs": [],
   "source": [
    "def random_forest_params(feature_nr):\n",
    "    n_estimators = [2, 3, 5, 10, 15, 20, 40, 60, 80, 100]\n",
    "    max_depth = [1, 2, 3, 4, 5, 10, 15, 20, 25]\n",
    "    max_features = list(range(1, feature_nr))\n",
    "\n",
    "    parameters = {'model__n_estimators': n_estimators, \n",
    "                  'model__max_depth': max_depth, \n",
    "                  'model__max_features': max_features}\n",
    "    return {'model__n_estimators': n_estimators, \n",
    "            'model__max_depth': max_depth, \n",
    "            'model__max_features': max_features}\n"
   ]
  },
  {
   "cell_type": "code",
   "execution_count": 40,
   "metadata": {},
   "outputs": [
    {
     "data": {
      "text/plain": [
       "'2019-06-03_08:16:32_DecisionTreeClassifier_2_levels'"
      ]
     },
     "execution_count": 40,
     "metadata": {},
     "output_type": "execute_result"
    }
   ],
   "source": [
    "import datetime\n",
    "now = datetime.datetime.now()\n",
    "now.strftime(\"%Y-%m-%d_%H:%M:%S\" + '_' + DecisionTreeClassifier.__name__ + '_2_levels')"
   ]
  },
  {
   "cell_type": "code",
   "execution_count": 31,
   "metadata": {},
   "outputs": [],
   "source": [
    "X = df_features.loc[:, df_features.columns != POSITION]\n",
    "y = df_features.loc[:,POSITION]"
   ]
  },
  {
   "cell_type": "code",
   "execution_count": 7,
   "metadata": {},
   "outputs": [
    {
     "data": {
      "text/plain": [
       "[<manufacturing_company.src.classification_algorithms.ModelInfo.ModelInfo at 0x1086247f0>]"
      ]
     },
     "execution_count": 7,
     "metadata": {},
     "output_type": "execute_result"
    }
   ],
   "source": [
    "all_months_score[2]"
   ]
  },
  {
   "cell_type": "code",
   "execution_count": 12,
   "metadata": {},
   "outputs": [],
   "source": [
    ""
   ]
  },
  {
   "cell_type": "code",
   "execution_count": null,
   "metadata": {},
   "outputs": [],
   "source": []
  }
 ],
 "metadata": {
  "kernelspec": {
   "display_name": "Python 2",
   "language": "python",
   "name": "python2"
  },
  "language_info": {
   "codemirror_mode": {
    "name": "ipython",
    "version": 2
   },
   "file_extension": ".py",
   "mimetype": "text/x-python",
   "name": "python",
   "nbconvert_exporter": "python",
   "pygments_lexer": "ipython2",
   "version": "2.7.6"
  }
 },
 "nbformat": 4,
 "nbformat_minor": 0
}
