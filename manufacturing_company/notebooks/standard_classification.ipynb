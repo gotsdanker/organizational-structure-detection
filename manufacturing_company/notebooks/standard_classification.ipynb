{
 "cells": [
  {
   "cell_type": "code",
   "execution_count": 1,
   "metadata": {
    "collapsed": true
   },
   "outputs": [
    {
     "name": "stderr",
     "output_type": "stream",
     "text": [
      "/Users/mateusz/anaconda3/lib/python3.6/site-packages/sklearn/externals/six.py:31: DeprecationWarning: The module is deprecated in version 0.21 and will be removed in version 0.23 since we've dropped support for Python 2.7. Please rely on the official version of six (https://pypi.org/project/six/).\n  \"(https://pypi.org/project/six/).\", DeprecationWarning)\n"
     ]
    }
   ],
   "source": [
    "# IMPORTS\n",
    "import numpy as np\n",
    "import pandas as pd\n",
    "from sklearn.tree import DecisionTreeClassifier\n",
    "from sklearn.ensemble import RandomForestClassifier\n",
    "\n",
    "from manufacturing_company.src.common.const import *\n",
    "from manufacturing_company.src.classification_algorithms.standard_classification import *\n",
    "from manufacturing_company.src.logs.standard_classification_logger import StandardClassificationLogger\n",
    "from manufacturing_company.src.visualization.plot_standard_classification import PlotStandardClassification\n",
    "from manufacturing_company.src.visualization.random_baseline_mc import *\n",
    "\n",
    "import warnings\n",
    "warnings.filterwarnings(action='once')\n"
   ]
  },
  {
   "cell_type": "code",
   "execution_count": null,
   "metadata": {},
   "outputs": [],
   "source": [
    "positions = pd.read_csv(MC_FILE_POSITIONS, sep=';', comment='#', index_col=ID)\n",
    "positions = positions.set_index(ID)\n",
    "\n",
    "levels = 2"
   ]
  },
  {
   "cell_type": "code",
   "execution_count": 3,
   "metadata": {},
   "outputs": [],
   "source": [
    "def decision_tree_params(n_features):\n",
    "    max_depth = np.linspace(1, 20, 20, endpoint=True)\n",
    "    max_features = list(range(1, n_features))\n",
    "    return {'model__max_depth': max_depth, 'model__max_features': max_features}\n"
   ]
  },
  {
   "cell_type": "code",
   "execution_count": 4,
   "metadata": {
    "collapsed": true
   },
   "outputs": [
    {
     "name": "stdout",
     "output_type": "stream",
     "text": [
      "MONTH:  1\nFEATURES %:  100.0\nBEST SCORE: 0.5383841414175085\nFeatures sorted from best:\n [('work_at_weekend', 0.5598598198892625), ('neighborhood_variability_sender', 0.1617707017205604), ('neighborhood_variability_all', 0.12642918560053737), ('overtime', 0.08865972602942478), ('max_clique', 0.03784722892357356), ('clustering_coeff', 0.025433337836641423), ('in_degree', 0.0), ('out_degree', 0.0), ('betweenness', 0.0), ('closeness', 0.0), ('eigenvector', 0.0), ('pagerank', 0.0), ('hubs', 0.0), ('authorities', 0.0), ('cliques_count', 0.0), ('neighborhood_variability_recipient', 0.0)]\nREMOVED:  work_at_weekend\nREMOVED:  neighborhood_variability_sender\nFEATURES %:  90.0\nBEST SCORE: 0.471200241406191\nFeatures sorted from best:\n [('overtime', 0.43344172505517714), ('in_degree', 0.32737279222754545), ('clustering_coeff', 0.23392517606749155), ('pagerank', 0.00526030664978571), ('out_degree', 0.0), ('betweenness', 0.0), ('closeness', 0.0), ('eigenvector', 0.0), ('hubs', 0.0), ('authorities', 0.0), ('max_clique', 0.0), ('cliques_count', 0.0), ('neighborhood_variability_recipient', 0.0), ('neighborhood_variability_all', 0.0)]\nREMOVED:  overtime\nFEATURES %:  80.0\n"
     ]
    },
    {
     "name": "stdout",
     "output_type": "stream",
     "text": [
      "BEST SCORE: 0.4566107085234171\nFeatures sorted from best:\n [('clustering_coeff', 0.501945340497557), ('max_clique', 0.391174193525567), ('cliques_count', 0.0952215008204737), ('neighborhood_variability_all', 0.006697703387720428), ('hubs', 0.0049612617686818185), ('in_degree', 0.0), ('out_degree', 0.0), ('betweenness', 0.0), ('closeness', 0.0), ('eigenvector', 0.0), ('pagerank', 0.0), ('authorities', 0.0), ('neighborhood_variability_recipient', 0.0)]\nREMOVED:  clustering_coeff\nREMOVED:  max_clique\nFEATURES %:  70.0\nBEST SCORE: 0.44122928704443465\nFeatures sorted from best:\n [('neighborhood_variability_recipient', 0.368974848876305), ('closeness', 0.24970559959550925), ('cliques_count', 0.21168021610153365), ('betweenness', 0.16963933542665205), ('in_degree', 0.0), ('out_degree', 0.0), ('eigenvector', 0.0), ('pagerank', 0.0), ('hubs', 0.0), ('authorities', 0.0), ('neighborhood_variability_all', 0.0)]\nREMOVED:  neighborhood_variability_recipient\nFEATURES %:  60.0\nBEST SCORE: 0.47869824633951996\nFeatures sorted from best:\n [('hubs', 0.41009471574360473), ('authorities', 0.366511311075714), ('pagerank', 0.19239482966704596), ('closeness', 0.03099914351363521), ('in_degree', 0.0), ('out_degree', 0.0), ('betweenness', 0.0), ('eigenvector', 0.0), ('cliques_count', 0.0), ('neighborhood_variability_all', 0.0)]\nREMOVED:  hubs\nREMOVED:  authorities\nFEATURES %:  50.0\nBEST SCORE: 0.5075035375561765\nFeatures sorted from best:\n [('closeness', 0.36412677437243735), ('out_degree', 0.35232031479897385), ('cliques_count', 0.2781850418541625), ('neighborhood_variability_all', 0.005367868974426368), ('in_degree', 0.0), ('betweenness', 0.0), ('eigenvector', 0.0), ('pagerank', 0.0)]\nREMOVED:  closeness\nREMOVED:  out_degree\nFEATURES %:  40.0\n"
     ]
    },
    {
     "name": "stderr",
     "output_type": "stream",
     "text": [
      "/Users/mateusz/anaconda3/lib/python3.6/site-packages/sklearn/metrics/classification.py:1437: UndefinedMetricWarning: F-score is ill-defined and being set to 0.0 in labels with no predicted samples.\n  'precision', 'predicted', average, warn_for)\n/Users/mateusz/anaconda3/lib/python3.6/site-packages/sklearn/metrics/classification.py:1437: UndefinedMetricWarning: F-score is ill-defined and being set to 0.0 in labels with no predicted samples.\n  'precision', 'predicted', average, warn_for)\n/Users/mateusz/anaconda3/lib/python3.6/site-packages/sklearn/metrics/classification.py:1437: UndefinedMetricWarning: F-score is ill-defined and being set to 0.0 in labels with no predicted samples.\n  'precision', 'predicted', average, warn_for)\n"
     ]
    },
    {
     "name": "stdout",
     "output_type": "stream",
     "text": [
      "BEST SCORE: 0.47198884448884454\nFeatures sorted from best:\n [('cliques_count', 0.3974398849420588), ('neighborhood_variability_all', 0.26944219645358886), ('in_degree', 0.17149693538999647), ('betweenness', 0.16162098321435592), ('eigenvector', 0.0), ('pagerank', 0.0)]\nREMOVED:  cliques_count\nFEATURES %:  30.0\nBEST SCORE: 0.4328165991097026\nFeatures sorted from best:\n [('neighborhood_variability_all', 0.4504215211005718), ('in_degree', 0.3603730844565288), ('betweenness', 0.1806796705154466), ('pagerank', 0.008525723927452754), ('eigenvector', 0.0)]\nREMOVED:  neighborhood_variability_all\nREMOVED:  in_degree\nFEATURES %:  20.0\nBEST SCORE: 0.4130290250684988\nFeatures sorted from best:\n [('pagerank', 0.7755964058253133), ('betweenness', 0.2244035941746866), ('eigenvector', 0.0)]\nREMOVED:  pagerank\nFEATURES %:  10.0\nBEST SCORE: 0.4552665566636155\nFeatures sorted from best:\n [('betweenness', 1.0), ('eigenvector', 0.0)]\nREMOVED:  betweenness\nREMOVED:  eigenvector\n\n*****************************************************\n\nMONTH:  2\nFEATURES %:  100.0\nBEST SCORE: 0.5789662934749018\nFeatures sorted from best:\n [('work_at_weekend', 0.48993581370164035), ('neighborhood_variability_sender', 0.18402551911564688), ('clustering_coeff', 0.1659014610652528), ('neighborhood_variability_recipient', 0.08354984666997911), ('overtime', 0.07658735944748099), ('in_degree', 0.0), ('out_degree', 0.0), ('betweenness', 0.0), ('closeness', 0.0), ('eigenvector', 0.0), ('pagerank', 0.0), ('hubs', 0.0), ('authorities', 0.0), ('max_clique', 0.0), ('cliques_count', 0.0), ('neighborhood_variability_all', 0.0)]\nREMOVED:  work_at_weekend\nREMOVED:  neighborhood_variability_sender\nFEATURES %:  90.0\n"
     ]
    },
    {
     "name": "stdout",
     "output_type": "stream",
     "text": [
      "BEST SCORE: 0.5857115881534487\nFeatures sorted from best:\n [('max_clique', 0.3683214705766244), ('clustering_coeff', 0.3077941980354247), ('in_degree', 0.200687358413798), ('cliques_count', 0.11599757256680772), ('hubs', 0.00719940040734508), ('out_degree', 0.0), ('betweenness', 0.0), ('closeness', 0.0), ('eigenvector', 0.0), ('pagerank', 0.0), ('authorities', 0.0), ('overtime', 0.0), ('neighborhood_variability_recipient', 0.0), ('neighborhood_variability_all', 0.0)]\nREMOVED:  max_clique\nFEATURES %:  80.0\nBEST SCORE: 0.524424194056997\nFeatures sorted from best:\n [('clustering_coeff', 0.4377731399281788), ('overtime', 0.41753125800002094), ('hubs', 0.14018796173642253), ('betweenness', 0.004507640335377654), ('in_degree', 0.0), ('out_degree', 0.0), ('closeness', 0.0), ('eigenvector', 0.0), ('pagerank', 0.0), ('authorities', 0.0), ('cliques_count', 0.0), ('neighborhood_variability_recipient', 0.0), ('neighborhood_variability_all', 0.0)]\nREMOVED:  clustering_coeff\nREMOVED:  overtime\nFEATURES %:  70.0\nBEST SCORE: 0.4420619658119659\nFeatures sorted from best:\n [('neighborhood_variability_recipient', 0.4198253241840914), ('neighborhood_variability_all', 0.2489759479791438), ('cliques_count', 0.17379592417609682), ('in_degree', 0.1493406334986804), ('closeness', 0.008062170161987492), ('out_degree', 0.0), ('betweenness', 0.0), ('eigenvector', 0.0), ('pagerank', 0.0), ('hubs', 0.0), ('authorities', 0.0)]\nREMOVED:  neighborhood_variability_recipient\nFEATURES %:  60.0\nBEST SCORE: 0.4553916508328273\nFeatures sorted from best:\n [('pagerank', 0.35056024723857376), ('cliques_count', 0.31786300004185675), ('betweenness', 0.17259431824176766), ('in_degree', 0.1330710413834541), ('closeness', 0.02591139309434756), ('out_degree', 0.0), ('eigenvector', 0.0), ('hubs', 0.0), ('authorities', 0.0), ('neighborhood_variability_all', 0.0)]\nREMOVED:  pagerank\nREMOVED:  cliques_count\nFEATURES %:  50.0\nBEST SCORE: 0.48048804790960914\nFeatures sorted from best:\n [('neighborhood_variability_all', 0.40009530165386464), ('in_degree', 0.19127045994681297), ('betweenness', 0.16876805289424673), ('closeness', 0.163184554548335), ('authorities', 0.07668163095674074), ('out_degree', 0.0), ('eigenvector', 0.0), ('hubs', 0.0)]\nREMOVED:  neighborhood_variability_all\nREMOVED:  "
     ]
    },
    {
     "name": "stdout",
     "output_type": "stream",
     "text": [
      "in_degree\nFEATURES %:  40.0\nBEST SCORE: 0.40875931152971\nFeatures sorted from best:\n [('betweenness', 0.32775755470095463), ('out_degree', 0.3032834409866245), ('closeness', 0.25261655391169563), ('hubs', 0.11634245040072529), ('eigenvector', 0.0), ('authorities', 0.0)]\nREMOVED:  betweenness\nFEATURES %:  30.0\nBEST SCORE: 0.520142773892774\nFeatures sorted from best:\n [('out_degree', 0.5102441501065341), ('closeness', 0.29667166270111694), ('hubs', 0.19308418719234904), ('eigenvector', 0.0), ('authorities', 0.0)]\nREMOVED:  out_degree\nREMOVED:  closeness\nFEATURES %:  20.0\nBEST SCORE: 0.40106664366626416\nFeatures sorted from best:\n [('authorities', 0.6061811733372473), ('hubs', 0.39381882666275275), ('eigenvector', 0.0)]\nREMOVED:  authorities\nFEATURES %:  10.0\n"
     ]
    },
    {
     "name": "stderr",
     "output_type": "stream",
     "text": [
      "/Users/mateusz/anaconda3/lib/python3.6/site-packages/sklearn/metrics/classification.py:1437: UndefinedMetricWarning: F-score is ill-defined and being set to 0.0 in labels with no predicted samples.\n  'precision', 'predicted', average, warn_for)\n"
     ]
    },
    {
     "name": "stdout",
     "output_type": "stream",
     "text": [
      "BEST SCORE: 0.27226518871017125\nFeatures sorted from best:\n [('hubs', 1.0), ('eigenvector', 0.0)]\nREMOVED:  hubs\nREMOVED:  eigenvector\n\n*****************************************************\n\nMONTH:  3\nFEATURES %:  100.0\nBEST SCORE: 0.5438458550456398\nFeatures sorted from best:\n [('work_at_weekend', 0.5097093329379474), ('neighborhood_variability_sender', 0.13055619831719698), ('clustering_coeff', 0.12577943767242186), ('neighborhood_variability_recipient', 0.11543402250155779), ('betweenness', 0.08098835712267766), ('max_clique', 0.0375326514481984), ('in_degree', 0.0), ('out_degree', 0.0), ('closeness', 0.0), ('eigenvector', 0.0), ('pagerank', 0.0), ('hubs', 0.0), ('authorities', 0.0), ('cliques_count', 0.0), ('overtime', 0.0), ('neighborhood_variability_all', 0.0)]\nREMOVED:  work_at_weekend\nREMOVED:  neighborhood_variability_sender\nFEATURES %:  90.0\nBEST SCORE: 0.5624433012822206\nFeatures sorted from best:\n [('clustering_coeff', 0.46604503223078914), ('max_clique', 0.45840406397853967), ('hubs', 0.0755509037906711), ('in_degree', 0.0), ('out_degree', 0.0), ('betweenness', 0.0), ('closeness', 0.0), ('eigenvector', 0.0), ('pagerank', 0.0), ('authorities', 0.0), ('cliques_count', 0.0), ('overtime', 0.0), ('neighborhood_variability_recipient', 0.0), ('neighborhood_variability_all', 0.0)]\nREMOVED:  clustering_coeff\nFEATURES %:  80.0\n"
     ]
    },
    {
     "name": "stdout",
     "output_type": "stream",
     "text": [
      "BEST SCORE: 0.5110410384249394\nFeatures sorted from best:\n [('max_clique', 0.6397003241612532), ('cliques_count', 0.24842463212847102), ('hubs', 0.08076540588709753), ('pagerank', 0.031109637823178334), ('in_degree', 0.0), ('out_degree', 0.0), ('betweenness', 0.0), ('closeness', 0.0), ('eigenvector', 0.0), ('authorities', 0.0), ('overtime', 0.0), ('neighborhood_variability_recipient', 0.0), ('neighborhood_variability_all', 0.0)]\nREMOVED:  max_clique\nREMOVED:  cliques_count\nFEATURES %:  70.0\nBEST SCORE: 0.43155624552208993\nFeatures sorted from best:\n [('neighborhood_variability_recipient', 0.44464817641120435), ('in_degree', 0.2567603172771709), ('authorities', 0.17983496612659908), ('hubs', 0.10433698963007464), ('closeness', 0.014419550554950986), ('out_degree', 0.0), ('betweenness', 0.0), ('eigenvector', 0.0), ('pagerank', 0.0), ('overtime', 0.0), ('neighborhood_variability_all', 0.0)]\nREMOVED:  neighborhood_variability_recipient\nFEATURES %:  60.0\nBEST SCORE: 0.37352745925800956\nFeatures sorted from best:\n [('betweenness', 0.655496091363218), ('out_degree', 0.1826871162648101), ('authorities', 0.14693200449630808), ('closeness', 0.01488478787566372), ('in_degree', 0.0), ('eigenvector', 0.0), ('pagerank', 0.0), ('hubs', 0.0), ('overtime', 0.0), ('neighborhood_variability_all', 0.0)]\nREMOVED:  betweenness\nREMOVED:  out_degree\nFEATURES %:  50.0\nBEST SCORE: 0.40879511297989557\nFeatures sorted from best:\n [('pagerank', 0.4328928314542391), ('hubs', 0.27893193396989874), ('authorities', 0.10473472031936756), ('in_degree', 0.09603910467155047), ('closeness', 0.08740140958494415), ('eigenvector', 0.0), ('overtime', 0.0), ('neighborhood_variability_all', 0.0)]\nREMOVED:  pagerank\nREMOVED:  hubs\nFEATURES %:  40.0\nBEST SCORE: 0.3719461057860811\nFeatures sorted from best:\n [('neighborhood_variability_all', 0.4680145518685922), ('in_degree', 0.24529730921528967), ('overtime', 0.1411576939082174), ('closeness', 0.10162985827851889), ('authorities', 0.04390058672938181), ('eigenvector', 0.0)]\nREMOVED:  neighborhood_variability_all\nFEATURES %:  30.0\n"
     ]
    },
    {
     "name": "stderr",
     "output_type": "stream",
     "text": [
      "/Users/mateusz/anaconda3/lib/python3.6/site-packages/sklearn/metrics/classification.py:1437: UndefinedMetricWarning: F-score is ill-defined and being set to 0.0 in labels with no predicted samples.\n  'precision', 'predicted', average, warn_for)\n/Users/mateusz/anaconda3/lib/python3.6/site-packages/sklearn/metrics/classification.py:1437: UndefinedMetricWarning: F-score is ill-defined and being set to 0.0 in labels with no predicted samples.\n  'precision', 'predicted', average, warn_for)\n"
     ]
    },
    {
     "name": "stdout",
     "output_type": "stream",
     "text": [
      "BEST SCORE: 0.4166281876483361\nFeatures sorted from best:\n [('authorities', 0.5662263188723946), ('overtime', 0.3722875296789972), ('closeness', 0.06148615144860812), ('in_degree', 0.0), ('eigenvector', 0.0)]\nREMOVED:  authorities\nREMOVED:  overtime\nFEATURES %:  20.0\nBEST SCORE: 0.5325891210239037\nFeatures sorted from best:\n [('closeness', 0.5189718409039279), ('in_degree', 0.4810281590960721), ('eigenvector', 0.0)]\nREMOVED:  closeness\nFEATURES %:  10.0\nBEST SCORE: 0.5157534279813141\nFeatures sorted from best:\n [('in_degree', 1.0), ('eigenvector', 0.0)]\nREMOVED:  in_degree\nREMOVED:  eigenvector\n\n*****************************************************\n\nMONTH:  4\nFEATURES %:  100.0\nBEST SCORE: 0.5104111650623279\nFeatures sorted from best:\n [('work_at_weekend', 0.5323115660528978), ('neighborhood_variability_sender', 0.16968334256310993), ('clustering_coeff', 0.1271543197776362), ('overtime', 0.08466952199357551), ('neighborhood_variability_recipient', 0.06597598272538552), ('closeness', 0.0202052668873951), ('in_degree', 0.0), ('out_degree', 0.0), ('betweenness', 0.0), ('eigenvector', 0.0), ('pagerank', 0.0), ('hubs', 0.0), ('authorities', 0.0), ('max_clique', 0.0), ('cliques_count', 0.0), ('neighborhood_variability_all', 0.0)]\nREMOVED:  work_at_weekend\nREMOVED:  neighborhood_variability_sender\nFEATURES %:  90.0\nBEST SCORE: 0.5566860652358916\nFeatures sorted from best:\n [('overtime', 0.3918852529509057), ('clustering_coeff', 0.21996650459390446), ('hubs', 0.16772863595460366), ('out_degree', 0.10721006001877303), ('max_clique', 0.10480979317076583), ('authorities', 0.008399753311047309), ('in_degree', 0.0), ('betweenness', 0.0), ('closeness', 0.0), ('eigenvector', 0.0), ('pagerank', 0.0), ('cliques_count', 0.0), ('neighborhood_variability_recipient', 0.0), ('neighborhood_variability_all', 0.0)]\nREMOVED:  overtime\nFEATURES %:  80.0\n"
     ]
    },
    {
     "name": "stdout",
     "output_type": "stream",
     "text": [
      "BEST SCORE: 0.5649933712449758\nFeatures sorted from best:\n [('clustering_coeff', 0.5217882956947084), ('max_clique', 0.3629651392976331), ('cliques_count', 0.11524656500765863), ('in_degree', 0.0), ('out_degree', 0.0), ('betweenness', 0.0), ('closeness', 0.0), ('eigenvector', 0.0), ('pagerank', 0.0), ('hubs', 0.0), ('authorities', 0.0), ('neighborhood_variability_recipient', 0.0), ('neighborhood_variability_all', 0.0)]\nREMOVED:  clustering_coeff\nREMOVED:  max_clique\nFEATURES %:  70.0\nBEST SCORE: 0.41328263032650775\nFeatures sorted from best:\n [('neighborhood_variability_recipient', 0.48552343962801414), ('cliques_count', 0.2268043515973323), ('neighborhood_variability_all', 0.1804986488444087), ('hubs', 0.09383137844859292), ('in_degree', 0.013342181481651774), ('out_degree', 0.0), ('betweenness', 0.0), ('closeness', 0.0), ('eigenvector', 0.0), ('pagerank', 0.0), ('authorities', 0.0)]\nREMOVED:  neighborhood_variability_recipient\nFEATURES %:  60.0\nBEST SCORE: 0.42629382918479053\nFeatures sorted from best:\n [('authorities', 0.4118814731204142), ('hubs', 0.20913052582468308), ('cliques_count', 0.16134121586347688), ('pagerank', 0.09506811577161477), ('in_degree', 0.07243285011170648), ('closeness', 0.05014581930810449), ('out_degree', 0.0), ('betweenness', 0.0), ('eigenvector', 0.0), ('neighborhood_variability_all', 0.0)]\nREMOVED:  authorities\nREMOVED:  hubs\nFEATURES %:  50.0\nBEST SCORE: 0.4945774993847235\nFeatures sorted from best:\n [('cliques_count', 0.26321025135347725), ('neighborhood_variability_all', 0.2576963246890434), ('out_degree', 0.17009691926908033), ('betweenness', 0.16018960723913506), ('closeness', 0.14880689744926384), ('in_degree', 0.0), ('eigenvector', 0.0), ('pagerank', 0.0)]\nREMOVED:  cliques_count\nREMOVED:  neighborhood_variability_all\nFEATURES %:  40.0\nBEST SCORE: 0.48700848626977217\nFeatures sorted from best:\n [('closeness', 0.397748345629558), ('betweenness', 0.30242627817330053), ('in_degree', 0.15088876039534294), ('pagerank', 0.11120875745501392), ('out_degree', 0.03772785834678447), ('eigenvector', 0.0)]\nREMOVED:  closeness\nFEATURES %:  30.0\n"
     ]
    },
    {
     "name": "stderr",
     "output_type": "stream",
     "text": [
      "/Users/mateusz/anaconda3/lib/python3.6/site-packages/sklearn/metrics/classification.py:1437: UndefinedMetricWarning: F-score is ill-defined and being set to 0.0 in labels with no predicted samples.\n  'precision', 'predicted', average, warn_for)\n/Users/mateusz/anaconda3/lib/python3.6/site-packages/sklearn/metrics/classification.py:1437: UndefinedMetricWarning: F-score is ill-defined and being set to 0.0 in labels with no predicted samples.\n  'precision', 'predicted', average, warn_for)\n/Users/mateusz/anaconda3/lib/python3.6/site-packages/sklearn/metrics/classification.py:1437: UndefinedMetricWarning: F-score is ill-defined and being set to 0.0 in labels with no predicted samples.\n  'precision', 'predicted', average, warn_for)\n"
     ]
    },
    {
     "name": "stdout",
     "output_type": "stream",
     "text": [
      "BEST SCORE: 0.5193187740212364\nFeatures sorted from best:\n [('in_degree', 0.7302193682368946), ('betweenness', 0.21480419525954494), ('out_degree', 0.050181962110917605), ('pagerank', 0.004794474392642969), ('eigenvector', 0.0)]\nREMOVED:  in_degree\nREMOVED:  betweenness\nFEATURES %:  20.0\nBEST SCORE: 0.42609494783211826\nFeatures sorted from best:\n [('out_degree', 0.7968981990737498), ('pagerank', 0.2031018009262502), ('eigenvector', 0.0)]\nREMOVED:  out_degree\nFEATURES %:  10.0\nBEST SCORE: 0.4645437236502108\nFeatures sorted from best:\n [('pagerank', 1.0), ('eigenvector', 0.0)]\nREMOVED:  pagerank\nREMOVED:  eigenvector\n\n*****************************************************\n\nMONTH:  5\nFEATURES %:  100.0\nBEST SCORE: 0.4858803614685967\nFeatures sorted from best:\n [('work_at_weekend', 0.5003319999755074), ('neighborhood_variability_sender', 0.1822480417548133), ('neighborhood_variability_all', 0.1654057161292435), ('overtime', 0.10497699258799593), ('max_clique', 0.03700197316250538), ('pagerank', 0.010035276389934476), ('in_degree', 0.0), ('out_degree', 0.0), ('betweenness', 0.0), ('closeness', 0.0), ('eigenvector', 0.0), ('clustering_coeff', 0.0), ('hubs', 0.0), ('authorities', 0.0), ('cliques_count', 0.0), ('neighborhood_variability_recipient', 0.0)]\nREMOVED:  work_at_weekend\nREMOVED:  neighborhood_variability_sender\nFEATURES %:  90.0\n"
     ]
    },
    {
     "name": "stdout",
     "output_type": "stream",
     "text": [
      "BEST SCORE: 0.5378001606015188\nFeatures sorted from best:\n [('overtime', 0.4025223264463654), ('clustering_coeff', 0.2201253317218004), ('max_clique', 0.18795008559584617), ('hubs', 0.13464112624955002), ('neighborhood_variability_recipient', 0.05043788288224559), ('cliques_count', 0.004323247104192463), ('in_degree', 0.0), ('out_degree', 0.0), ('betweenness', 0.0), ('closeness', 0.0), ('eigenvector', 0.0), ('pagerank', 0.0), ('authorities', 0.0), ('neighborhood_variability_all', 0.0)]\nREMOVED:  overtime\nFEATURES %:  80.0\nBEST SCORE: 0.5866798094811678\nFeatures sorted from best:\n [('clustering_coeff', 0.5020258492906509), ('max_clique', 0.4156219782603674), ('cliques_count', 0.07448689354804958), ('hubs', 0.007865278900932077), ('in_degree', 0.0), ('out_degree', 0.0), ('betweenness', 0.0), ('closeness', 0.0), ('eigenvector', 0.0), ('pagerank', 0.0), ('authorities', 0.0), ('neighborhood_variability_recipient', 0.0), ('neighborhood_variability_all', 0.0)]\nREMOVED:  clustering_coeff\nREMOVED:  max_clique\nFEATURES %:  70.0\nBEST SCORE: 0.43229821087838227\nFeatures sorted from best:\n [('neighborhood_variability_recipient', 0.5169322146379839), ('cliques_count', 0.18403261227384504), ('neighborhood_variability_all', 0.11893697249701499), ('authorities', 0.10334482241513211), ('betweenness', 0.06792466229235619), ('pagerank', 0.008828715883667692), ('in_degree', 0.0), ('out_degree', 0.0), ('closeness', 0.0), ('eigenvector', 0.0), ('hubs', 0.0)]\nREMOVED:  neighborhood_variability_recipient\nFEATURES %:  60.0\nBEST SCORE: 0.5011853956981047\nFeatures sorted from best:\n [('closeness', 0.35474530241417945), ('out_degree', 0.25675768960281475), ('cliques_count', 0.2185263819494577), ('pagerank', 0.1396251065226689), ('hubs', 0.030345519510879115), ('in_degree', 0.0), ('betweenness', 0.0), ('eigenvector', 0.0), ('authorities', 0.0), ('neighborhood_variability_all', 0.0)]\nREMOVED:  closeness\nREMOVED:  out_degree\nFEATURES %:  50.0\nBEST SCORE: 0.4885199890428849\nFeatures sorted from best:\n [('cliques_count', 0.35918658352944094), ('betweenness', 0.32122484393537737), ('neighborhood_variability_all', 0.31958857253518175), ('in_degree', 0.0), ('eigenvector', 0.0), ('pagerank', 0.0), ('hubs', 0.0), ('authorities', 0.0)]\nREMOVED:  cliques_count\nREMOVED:  betweenness\nFEATURES %:  40.0\n"
     ]
    },
    {
     "name": "stderr",
     "output_type": "stream",
     "text": [
      "/Users/mateusz/anaconda3/lib/python3.6/site-packages/sklearn/metrics/classification.py:1437: UndefinedMetricWarning: F-score is ill-defined and being set to 0.0 in labels with no predicted samples.\n  'precision', 'predicted', average, warn_for)\n/Users/mateusz/anaconda3/lib/python3.6/site-packages/sklearn/metrics/classification.py:1437: UndefinedMetricWarning: F-score is ill-defined and being set to 0.0 in labels with no predicted samples.\n  'precision', 'predicted', average, warn_for)\n/Users/mateusz/anaconda3/lib/python3.6/site-packages/sklearn/metrics/classification.py:1437: UndefinedMetricWarning: F-score is ill-defined and being set to 0.0 in labels with no predicted samples.\n  'precision', 'predicted', average, warn_for)\n/Users/mateusz/anaconda3/lib/python3.6/site-packages/sklearn/metrics/classification.py:1437: UndefinedMetricWarning: F-score is ill-defined and being set to 0.0 in labels with no predicted samples.\n  'precision', 'predicted', average, warn_for)\n"
     ]
    },
    {
     "name": "stdout",
     "output_type": "stream",
     "text": [
      "BEST SCORE: 0.4644741651093738\nFeatures sorted from best:\n [('neighborhood_variability_all', 0.345906303410694), ('in_degree', 0.3154007092455186), ('hubs', 0.226350104563907), ('authorities', 0.11234288277988032), ('eigenvector', 0.0), ('pagerank', 0.0)]\nREMOVED:  neighborhood_variability_all\nFEATURES %:  30.0\nBEST SCORE: 0.43845008508224614\nFeatures sorted from best:\n [('authorities', 0.5859752429843086), ('hubs', 0.4049066700330511), ('pagerank', 0.00911808698264035), ('in_degree', 0.0), ('eigenvector', 0.0)]\nREMOVED:  authorities\nREMOVED:  hubs\nFEATURES %:  20.0\nBEST SCORE: 0.5233874014722169\nFeatures sorted from best:\n [('in_degree', 0.9902217026679325), ('pagerank', 0.009778297332067467), ('eigenvector', 0.0)]\nREMOVED:  in_degree\nFEATURES %:  10.0\nBEST SCORE: 0.4842854165922434\nFeatures sorted from best:\n [('pagerank', 1.0), ('eigenvector', 0.0)]\nREMOVED:  pagerank\nREMOVED:  eigenvector\n\n*****************************************************\n\n"
     ]
    },
    {
     "name": "stderr",
     "output_type": "stream",
     "text": [
      "/Users/mateusz/anaconda3/lib/python3.6/site-packages/sklearn/metrics/classification.py:1437: UndefinedMetricWarning: F-score is ill-defined and being set to 0.0 in labels with no predicted samples.\n  'precision', 'predicted', average, warn_for)\n/Users/mateusz/anaconda3/lib/python3.6/site-packages/sklearn/metrics/classification.py:1437: UndefinedMetricWarning: F-score is ill-defined and being set to 0.0 in labels with no predicted samples.\n  'precision', 'predicted', average, warn_for)\n"
     ]
    }
   ],
   "source": [
    "# DECISION TREE\n",
    "\n",
    "logger = StandardClassificationLogger('manufacturing_company', levels, DecisionTreeClassifier)\n",
    "\n",
    "for month in range(MONTHS):\n",
    "    features = pd.read_csv(MC_FILE_FEATURES.format(month), sep=';', index_col=ID)\n",
    "    features = assign_management_levels(levels, features, positions)\n",
    "\n",
    "    models = classification(features, DecisionTreeClassifier, decision_tree_params, 'f1_macro', logger, month)\n",
    "    \n",
    "\n",
    "plot = PlotStandardClassification(logger.directory_path, DecisionTreeClassifier, levels, random_baseline_mc)\n",
    "plot.plot()\n"
   ]
  },
  {
   "cell_type": "code",
   "execution_count": 7,
   "metadata": {},
   "outputs": [],
   "source": [
    "def random_forest_params(n_features):\n",
    "    n_estimators = [1, 2, 4, 8, 16, 32, 64, 100, 200]\n",
    "    max_depth = np.linspace(1, 20, 20, endpoint=True)\n",
    "    max_features = list(range(1, n_features))\n",
    "    return {'model__n_estimators': n_estimators, \n",
    "            'model__max_depth': max_depth, \n",
    "            'model__max_features': max_features}\n"
   ]
  },
  {
   "cell_type": "code",
   "execution_count": null,
   "metadata": {},
   "outputs": [],
   "source": [
    "# RANDOM FOREST\n",
    "\n",
    "logger = StandardClassificationLogger('manufacturing_company', levels, RandomForestClassifier)\n",
    "\n",
    "for month in range(MONTHS):\n",
    "    features = pd.read_csv(MC_FILE_FEATURES.format(month), sep=';', index_col=ID)\n",
    "    features = assign_management_levels(levels, features, positions)\n",
    "\n",
    "    models = classification(features, RandomForestClassifier, decision_tree_params, 'f1_macro', logger, month)\n",
    "\n",
    "plot = PlotStandardClassification(logger.directory_path, RandomForestClassifier, levels, random_baseline_mc)\n",
    "plot.plot()\n"
   ]
  }
 ],
 "metadata": {
  "kernelspec": {
   "display_name": "Python 2",
   "language": "python",
   "name": "python2"
  },
  "language_info": {
   "codemirror_mode": {
    "name": "ipython",
    "version": 2
   },
   "file_extension": ".py",
   "mimetype": "text/x-python",
   "name": "python",
   "nbconvert_exporter": "python",
   "pygments_lexer": "ipython2",
   "version": "2.7.6"
  }
 },
 "nbformat": 4,
 "nbformat_minor": 0
}
