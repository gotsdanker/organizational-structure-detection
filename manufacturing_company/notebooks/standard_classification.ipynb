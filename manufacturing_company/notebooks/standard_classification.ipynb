{
 "cells": [
  {
   "cell_type": "code",
   "execution_count": 1,
   "metadata": {
    "collapsed": true
   },
   "outputs": [],
   "source": [
    "# IMPORTS\n",
    "import numpy as np\n",
    "import pandas as pd\n",
    "from sklearn.tree import DecisionTreeClassifier\n",
    "from sklearn.ensemble import RandomForestClassifier\n",
    "\n",
    "from manufacturing_company.src.common.const import *\n",
    "from manufacturing_company.src.classification_algorithms.standard_classification import *\n",
    "from manufacturing_company.src.logs.standard_classification_logger import StandardClassificationLogger\n",
    "from manufacturing_company.src.visualization.plot_standard_classification import PlotStandardClassification\n",
    "from manufacturing_company.src.visualization.random_baseline_mc import *\n",
    "\n",
    "import warnings\n",
    "warnings.filterwarnings(action='once')\n"
   ]
  },
  {
   "cell_type": "code",
   "execution_count": 3,
   "metadata": {},
   "outputs": [],
   "source": [
    "positions = pd.read_csv(MC_FILE_POSITIONS, sep=';', comment='#', index_col=ID)\n",
    "\n",
    "levels = 3"
   ]
  },
  {
   "cell_type": "code",
   "execution_count": 15,
   "metadata": {},
   "outputs": [],
   "source": [
    "def decision_tree_params(n_features):\n",
    "    max_depth = np.linspace(1, 20, 20, endpoint=True)\n",
    "    max_features = list(range(1, n_features))\n",
    "    return {'model__max_depth': max_depth, 'model__max_features': max_features}\n"
   ]
  },
  {
   "cell_type": "code",
   "execution_count": 2,
   "metadata": {
    "collapsed": true
   },
   "outputs": [],
   "source": [
    "# DECISION TREE\n",
    "\n",
    "logger = StandardClassificationLogger('manufacturing_company', levels, DecisionTreeClassifier)\n",
    "\n",
    "for month in MONTHS:\n",
    "    features = pd.read_csv(MC_FILE_FEATURES.format(month), sep=';', index_col=ID)\n",
    "    features = assign_management_levels_mc(levels, features, positions)\n",
    "\n",
    "    models = classification(features, DecisionTreeClassifier, decision_tree_params, 'f1_macro', logger, month)\n",
    "\n",
    "\n",
    "plot = PlotStandardClassification(logger.directory_path, DecisionTreeClassifier, levels, random_baseline_mc)\n",
    "plot.plot()\n"
   ]
  },
  {
   "cell_type": "code",
   "execution_count": 4,
   "metadata": {},
   "outputs": [],
   "source": [
    "def random_forest_params(n_features):\n",
    "    n_estimators = [1, 2, 4, 8, 16, 32, 64, 100, 200]\n",
    "    max_depth = np.linspace(1, 20, 20, endpoint=True)\n",
    "    max_features = list(range(1, n_features))\n",
    "    return {'model__n_estimators': n_estimators, \n",
    "            'model__max_depth': max_depth, \n",
    "            'model__max_features': max_features}\n"
   ]
  },
  {
   "cell_type": "code",
   "execution_count": 5,
   "metadata": {},
   "outputs": [],
   "source": [
    "# RANDOM FOREST\n",
    "\n",
    "logger = StandardClassificationLogger('manufacturing_company', levels, RandomForestClassifier)\n",
    "\n",
    "for month in MONTHS:\n",
    "    features = pd.read_csv(MC_FILE_FEATURES.format(month), sep=';', index_col=ID)\n",
    "    features = assign_management_levels_mc(levels, features, positions)\n",
    "\n",
    "    models = classification(features, RandomForestClassifier, random_forest_params, 'f1_macro', logger, month)\n",
    "\n",
    "plot = PlotStandardClassification(logger.directory_path, RandomForestClassifier, levels, random_baseline_mc)\n",
    "plot.plot()\n"
   ]
  },
  {
   "cell_type": "code",
   "execution_count": 3,
   "metadata": {},
   "outputs": [],
   "source": [
    "plot = PlotStandardClassification(\n",
    "    'manufacturing_company/logs/standard_classification/'\n",
    "    '2019-06-08_16:11:59_RandomForestClassifier_2_levels', \n",
    "                                  RandomForestClassifier, 2, random_baseline_mc)\n",
    "plot.plot()"
   ]
  },
  {
   "cell_type": "code",
   "execution_count": 4,
   "metadata": {},
   "outputs": [],
   "source": [
    "plot = PlotStandardClassification(\n",
    "    'manufacturing_company/logs/standard_classification/'\n",
    "    '2019-06-08_23:43:29_RandomForestClassifier_3_levels', \n",
    "                                  RandomForestClassifier, 3, random_baseline_mc)\n",
    "plot.plot()"
   ]
  },
  {
   "cell_type": "code",
   "execution_count": 5,
   "metadata": {},
   "outputs": [],
   "source": [
    "plot = PlotStandardClassification(\n",
    "    'manufacturing_company/logs/standard_classification/'\n",
    "    '2019-06-08_16:04:13_DecisionTreeClassifier_2_levels', \n",
    "                                  DecisionTreeClassifier, 2, random_baseline_mc)\n",
    "plot.plot()"
   ]
  },
  {
   "cell_type": "code",
   "execution_count": 6,
   "metadata": {},
   "outputs": [],
   "source": [
    "plot = PlotStandardClassification(\n",
    "    'manufacturing_company/logs/standard_classification/'\n",
    "    '2019-06-08_18:56:00_DecisionTreeClassifier_3_levels', \n",
    "                                  DecisionTreeClassifier, 3, random_baseline_mc)\n",
    "plot.plot()"
   ]
  },
  {
   "cell_type": "code",
   "execution_count": null,
   "metadata": {},
   "outputs": [],
   "source": []
  }
 ],
 "metadata": {
  "kernelspec": {
   "display_name": "Python 2",
   "language": "python",
   "name": "python2"
  },
  "language_info": {
   "codemirror_mode": {
    "name": "ipython",
    "version": 2
   },
   "file_extension": ".py",
   "mimetype": "text/x-python",
   "name": "python",
   "nbconvert_exporter": "python",
   "pygments_lexer": "ipython2",
   "version": "2.7.6"
  }
 },
 "nbformat": 4,
 "nbformat_minor": 0
}
